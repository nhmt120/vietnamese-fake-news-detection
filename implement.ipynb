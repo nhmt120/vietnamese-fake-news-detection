{
 "cells": [
  {
   "cell_type": "markdown",
   "id": "d1e0acc2",
   "metadata": {},
   "source": [
    "# Data collection"
   ]
  },
  {
   "cell_type": "code",
   "execution_count": 1,
   "id": "470a6eb9",
   "metadata": {},
   "outputs": [],
   "source": [
    "import numpy as np\n",
    "import pandas as pd\n",
    "import os"
   ]
  },
  {
   "cell_type": "code",
   "execution_count": 2,
   "id": "413ced25",
   "metadata": {},
   "outputs": [
    {
     "name": "stdout",
     "output_type": "stream",
     "text": [
      "Python 3.9.7\n"
     ]
    }
   ],
   "source": [
    "!python --version"
   ]
  },
  {
   "cell_type": "code",
   "execution_count": 3,
   "id": "16c9994c",
   "metadata": {},
   "outputs": [
    {
     "name": "stdout",
     "output_type": "stream",
     "text": [
      "(5172, 8)\n"
     ]
    },
    {
     "data": {
      "text/html": [
       "<div>\n",
       "<style scoped>\n",
       "    .dataframe tbody tr th:only-of-type {\n",
       "        vertical-align: middle;\n",
       "    }\n",
       "\n",
       "    .dataframe tbody tr th {\n",
       "        vertical-align: top;\n",
       "    }\n",
       "\n",
       "    .dataframe thead th {\n",
       "        text-align: right;\n",
       "    }\n",
       "</style>\n",
       "<table border=\"1\" class=\"dataframe\">\n",
       "  <thead>\n",
       "    <tr style=\"text-align: right;\">\n",
       "      <th></th>\n",
       "      <th>id</th>\n",
       "      <th>user_name</th>\n",
       "      <th>post_message</th>\n",
       "      <th>timestamp_post</th>\n",
       "      <th>num_like_post</th>\n",
       "      <th>num_comment_post</th>\n",
       "      <th>num_share_post</th>\n",
       "      <th>label</th>\n",
       "    </tr>\n",
       "  </thead>\n",
       "  <tbody>\n",
       "    <tr>\n",
       "      <th>0</th>\n",
       "      <td>1.0</td>\n",
       "      <td>389c669730cb6c54314a46be785cea42</td>\n",
       "      <td>THĂNG CẤP BẬC HÀM ĐỐI VỚI 2 CÁN BỘ, CHIẾN SỸ H...</td>\n",
       "      <td>1585945439</td>\n",
       "      <td>19477</td>\n",
       "      <td>378</td>\n",
       "      <td>173.0</td>\n",
       "      <td>0.0</td>\n",
       "    </tr>\n",
       "    <tr>\n",
       "      <th>1</th>\n",
       "      <td>2.0</td>\n",
       "      <td>775baa6d037b6d359b229a656eaeaf08</td>\n",
       "      <td>&lt;URL&gt;</td>\n",
       "      <td>1588939166.0</td>\n",
       "      <td>11</td>\n",
       "      <td>5</td>\n",
       "      <td>3</td>\n",
       "      <td>0.0</td>\n",
       "    </tr>\n",
       "    <tr>\n",
       "      <th>2</th>\n",
       "      <td>3.0</td>\n",
       "      <td>b9f3394d2aff86d85974f5040c401f08</td>\n",
       "      <td>TƯ VẤN MÙA THI: Cách nộp hồ sơ để trúng tuyển ...</td>\n",
       "      <td>1591405213</td>\n",
       "      <td>48</td>\n",
       "      <td>5</td>\n",
       "      <td>19.0</td>\n",
       "      <td>0.0</td>\n",
       "    </tr>\n",
       "    <tr>\n",
       "      <th>3</th>\n",
       "      <td>4.0</td>\n",
       "      <td>808e278b22ec6b96f2faf7447d10cd8e</td>\n",
       "      <td>Cơ quan Cạnh tranh và Thị trường Anh quyết địn...</td>\n",
       "      <td>1592023613</td>\n",
       "      <td>3</td>\n",
       "      <td>0</td>\n",
       "      <td>0.0</td>\n",
       "      <td>0.0</td>\n",
       "    </tr>\n",
       "    <tr>\n",
       "      <th>4</th>\n",
       "      <td>5.0</td>\n",
       "      <td>f81bdd6d8be4c5f64bb664214e47aced</td>\n",
       "      <td>Thêm 7 ca tại Quảng Nam liên quan đến hành khá...</td>\n",
       "      <td>1583737358</td>\n",
       "      <td>775</td>\n",
       "      <td>0</td>\n",
       "      <td>54.0</td>\n",
       "      <td>0.0</td>\n",
       "    </tr>\n",
       "  </tbody>\n",
       "</table>\n",
       "</div>"
      ],
      "text/plain": [
       "    id                         user_name  \\\n",
       "0  1.0  389c669730cb6c54314a46be785cea42   \n",
       "1  2.0  775baa6d037b6d359b229a656eaeaf08   \n",
       "2  3.0  b9f3394d2aff86d85974f5040c401f08   \n",
       "3  4.0  808e278b22ec6b96f2faf7447d10cd8e   \n",
       "4  5.0  f81bdd6d8be4c5f64bb664214e47aced   \n",
       "\n",
       "                                        post_message timestamp_post  \\\n",
       "0  THĂNG CẤP BẬC HÀM ĐỐI VỚI 2 CÁN BỘ, CHIẾN SỸ H...     1585945439   \n",
       "1                                              <URL>   1588939166.0   \n",
       "2  TƯ VẤN MÙA THI: Cách nộp hồ sơ để trúng tuyển ...     1591405213   \n",
       "3  Cơ quan Cạnh tranh và Thị trường Anh quyết địn...     1592023613   \n",
       "4  Thêm 7 ca tại Quảng Nam liên quan đến hành khá...     1583737358   \n",
       "\n",
       "  num_like_post num_comment_post num_share_post  label  \n",
       "0         19477              378          173.0    0.0  \n",
       "1            11                5              3    0.0  \n",
       "2            48                5           19.0    0.0  \n",
       "3             3                0            0.0    0.0  \n",
       "4           775                0           54.0    0.0  "
      ]
     },
     "execution_count": 3,
     "metadata": {},
     "output_type": "execute_result"
    }
   ],
   "source": [
    "# get data\n",
    "df = pd.read_csv('data/public_train.csv').append(pd.read_excel('data/warmup_training_dataset.xlsx'))\n",
    "print(df.shape)\n",
    "df.head()"
   ]
  },
  {
   "cell_type": "code",
   "execution_count": 4,
   "id": "f9efc0b0",
   "metadata": {},
   "outputs": [
    {
     "data": {
      "text/plain": [
       "label\n",
       "0.0    4238\n",
       "1.0     934\n",
       "dtype: int64"
      ]
     },
     "execution_count": 4,
     "metadata": {},
     "output_type": "execute_result"
    }
   ],
   "source": [
    "label_count = df.value_counts('label')\n",
    "label_count"
   ]
  },
  {
   "cell_type": "code",
   "execution_count": 5,
   "id": "d1b1fd6a",
   "metadata": {},
   "outputs": [
    {
     "data": {
      "text/plain": [
       "id                    0\n",
       "user_name             0\n",
       "post_message          1\n",
       "timestamp_post      164\n",
       "num_like_post       146\n",
       "num_comment_post     14\n",
       "num_share_post      929\n",
       "label                 0\n",
       "dtype: int64"
      ]
     },
     "execution_count": 5,
     "metadata": {},
     "output_type": "execute_result"
    }
   ],
   "source": [
    "# check null value in data\n",
    "df.isnull().sum()"
   ]
  },
  {
   "cell_type": "code",
   "execution_count": 6,
   "id": "168514b8",
   "metadata": {},
   "outputs": [
    {
     "data": {
      "text/html": [
       "<div>\n",
       "<style scoped>\n",
       "    .dataframe tbody tr th:only-of-type {\n",
       "        vertical-align: middle;\n",
       "    }\n",
       "\n",
       "    .dataframe tbody tr th {\n",
       "        vertical-align: top;\n",
       "    }\n",
       "\n",
       "    .dataframe thead th {\n",
       "        text-align: right;\n",
       "    }\n",
       "</style>\n",
       "<table border=\"1\" class=\"dataframe\">\n",
       "  <thead>\n",
       "    <tr style=\"text-align: right;\">\n",
       "      <th></th>\n",
       "      <th>id</th>\n",
       "      <th>user_name</th>\n",
       "      <th>post_message</th>\n",
       "      <th>timestamp_post</th>\n",
       "      <th>num_like_post</th>\n",
       "      <th>num_comment_post</th>\n",
       "      <th>num_share_post</th>\n",
       "      <th>label</th>\n",
       "    </tr>\n",
       "  </thead>\n",
       "  <tbody>\n",
       "    <tr>\n",
       "      <th>150</th>\n",
       "      <td>151.0</td>\n",
       "      <td>dd35242704071b7ddf90a8ee90055ec4</td>\n",
       "      <td>&lt;URL&gt;</td>\n",
       "      <td>1588947622.0</td>\n",
       "      <td>87</td>\n",
       "      <td>4</td>\n",
       "      <td>1</td>\n",
       "      <td>0.0</td>\n",
       "    </tr>\n",
       "    <tr>\n",
       "      <th>175</th>\n",
       "      <td>176.0</td>\n",
       "      <td>79c2d500763b7f14f2631a8ab6a71ea4</td>\n",
       "      <td>&lt;URL&gt;</td>\n",
       "      <td>1588917759.0</td>\n",
       "      <td>NaN</td>\n",
       "      <td>0</td>\n",
       "      <td>NaN</td>\n",
       "      <td>0.0</td>\n",
       "    </tr>\n",
       "    <tr>\n",
       "      <th>178</th>\n",
       "      <td>179.0</td>\n",
       "      <td>59fb67d9b2bd2b380529562035b3bab4</td>\n",
       "      <td>&lt;URL&gt;</td>\n",
       "      <td>1587632107.0</td>\n",
       "      <td>3</td>\n",
       "      <td>2</td>\n",
       "      <td>NaN</td>\n",
       "      <td>0.0</td>\n",
       "    </tr>\n",
       "    <tr>\n",
       "      <th>197</th>\n",
       "      <td>198.0</td>\n",
       "      <td>ae7c1d8434b0629a83958eac387e7424</td>\n",
       "      <td>Cơ hội có 1-0-2 để cùng nhau xây dựng những cô...</td>\n",
       "      <td>1584262049</td>\n",
       "      <td>2898</td>\n",
       "      <td>50</td>\n",
       "      <td>142.0</td>\n",
       "      <td>0.0</td>\n",
       "    </tr>\n",
       "    <tr>\n",
       "      <th>454</th>\n",
       "      <td>455.0</td>\n",
       "      <td>654d291ef3011072e7980e89293fbdac</td>\n",
       "      <td>&lt;URL&gt;</td>\n",
       "      <td>1592663724.0</td>\n",
       "      <td>4</td>\n",
       "      <td>0</td>\n",
       "      <td>NaN</td>\n",
       "      <td>0.0</td>\n",
       "    </tr>\n",
       "    <tr>\n",
       "      <th>...</th>\n",
       "      <td>...</td>\n",
       "      <td>...</td>\n",
       "      <td>...</td>\n",
       "      <td>...</td>\n",
       "      <td>...</td>\n",
       "      <td>...</td>\n",
       "      <td>...</td>\n",
       "      <td>...</td>\n",
       "    </tr>\n",
       "    <tr>\n",
       "      <th>769</th>\n",
       "      <td>769.0</td>\n",
       "      <td>297491051505678016.0</td>\n",
       "      <td>“Giữa đại dịch virus corona, Thủ tướng Nhật Ab...</td>\n",
       "      <td>1589347145.0</td>\n",
       "      <td>126.0</td>\n",
       "      <td>7.0</td>\n",
       "      <td>17.0</td>\n",
       "      <td>0.0</td>\n",
       "    </tr>\n",
       "    <tr>\n",
       "      <th>776</th>\n",
       "      <td>776.0</td>\n",
       "      <td>896764849329199104.0</td>\n",
       "      <td>Bí thư Vương Đình Huệ cho biết Hà Nội đặt mục ...</td>\n",
       "      <td>1588689342.0</td>\n",
       "      <td>5.0</td>\n",
       "      <td>0.0</td>\n",
       "      <td>2.0</td>\n",
       "      <td>0.0</td>\n",
       "    </tr>\n",
       "    <tr>\n",
       "      <th>784</th>\n",
       "      <td>784.0</td>\n",
       "      <td>-6167405391948957696.0</td>\n",
       "      <td>TAND Cấp cao tại TP HCM đã kháng nghị Giám đốc...</td>\n",
       "      <td>1591367541.0</td>\n",
       "      <td>49.0</td>\n",
       "      <td>3.0</td>\n",
       "      <td>10.0</td>\n",
       "      <td>0.0</td>\n",
       "    </tr>\n",
       "    <tr>\n",
       "      <th>788</th>\n",
       "      <td>788.0</td>\n",
       "      <td>3380755255845678080.0</td>\n",
       "      <td>Hướng về Hà Nội ❤\\n\\nSáng nay 7-3, Ban Chỉ đạo...</td>\n",
       "      <td>1583553093.0</td>\n",
       "      <td>30.0</td>\n",
       "      <td>4.0</td>\n",
       "      <td>6.0</td>\n",
       "      <td>0.0</td>\n",
       "    </tr>\n",
       "    <tr>\n",
       "      <th>789</th>\n",
       "      <td>789.0</td>\n",
       "      <td>1543548005049796096.0</td>\n",
       "      <td># **Bảo đảm công khai, minh bạch trong hỗ trợ ...</td>\n",
       "      <td>1586931151.0</td>\n",
       "      <td>5.0</td>\n",
       "      <td>3.0</td>\n",
       "      <td>NaN</td>\n",
       "      <td>0.0</td>\n",
       "    </tr>\n",
       "  </tbody>\n",
       "</table>\n",
       "<p>303 rows × 8 columns</p>\n",
       "</div>"
      ],
      "text/plain": [
       "        id                         user_name  \\\n",
       "150  151.0  dd35242704071b7ddf90a8ee90055ec4   \n",
       "175  176.0  79c2d500763b7f14f2631a8ab6a71ea4   \n",
       "178  179.0  59fb67d9b2bd2b380529562035b3bab4   \n",
       "197  198.0  ae7c1d8434b0629a83958eac387e7424   \n",
       "454  455.0  654d291ef3011072e7980e89293fbdac   \n",
       "..     ...                               ...   \n",
       "769  769.0              297491051505678016.0   \n",
       "776  776.0              896764849329199104.0   \n",
       "784  784.0            -6167405391948957696.0   \n",
       "788  788.0             3380755255845678080.0   \n",
       "789  789.0             1543548005049796096.0   \n",
       "\n",
       "                                          post_message timestamp_post  \\\n",
       "150                                              <URL>   1588947622.0   \n",
       "175                                              <URL>   1588917759.0   \n",
       "178                                              <URL>   1587632107.0   \n",
       "197  Cơ hội có 1-0-2 để cùng nhau xây dựng những cô...     1584262049   \n",
       "454                                              <URL>   1592663724.0   \n",
       "..                                                 ...            ...   \n",
       "769  “Giữa đại dịch virus corona, Thủ tướng Nhật Ab...   1589347145.0   \n",
       "776  Bí thư Vương Đình Huệ cho biết Hà Nội đặt mục ...   1588689342.0   \n",
       "784  TAND Cấp cao tại TP HCM đã kháng nghị Giám đốc...   1591367541.0   \n",
       "788  Hướng về Hà Nội ❤\\n\\nSáng nay 7-3, Ban Chỉ đạo...   1583553093.0   \n",
       "789  # **Bảo đảm công khai, minh bạch trong hỗ trợ ...   1586931151.0   \n",
       "\n",
       "    num_like_post num_comment_post num_share_post  label  \n",
       "150            87                4              1    0.0  \n",
       "175           NaN                0            NaN    0.0  \n",
       "178             3                2            NaN    0.0  \n",
       "197          2898               50          142.0    0.0  \n",
       "454             4                0            NaN    0.0  \n",
       "..            ...              ...            ...    ...  \n",
       "769         126.0              7.0           17.0    0.0  \n",
       "776           5.0              0.0            2.0    0.0  \n",
       "784          49.0              3.0           10.0    0.0  \n",
       "788          30.0              4.0            6.0    0.0  \n",
       "789           5.0              3.0            NaN    0.0  \n",
       "\n",
       "[303 rows x 8 columns]"
      ]
     },
     "execution_count": 6,
     "metadata": {},
     "output_type": "execute_result"
    }
   ],
   "source": [
    "# check duplicate data\n",
    "df[df.duplicated('post_message')]"
   ]
  },
  {
   "cell_type": "code",
   "execution_count": 7,
   "id": "fa06dcab",
   "metadata": {},
   "outputs": [],
   "source": [
    "# convert unknown record to 0 value\n",
    "df.iloc[:, 4:7] = df.iloc[:, 4:7].replace('unknown', 0)\n",
    "\n",
    "# cast from Dtype object to int64 \n",
    "for i in range(3, 7):\n",
    "  df.iloc[:, i] = pd.to_numeric(df.iloc[:, i], errors='coerce', downcast='integer')\n",
    "  \n",
    "# convert timestamp to date format\n",
    "df['timestamp_post'] = pd.to_datetime(df['timestamp_post'], unit='s', errors='coerce')"
   ]
  },
  {
   "cell_type": "code",
   "execution_count": 8,
   "id": "db24199d",
   "metadata": {},
   "outputs": [],
   "source": [
    "# remove null, duplicate text content record\n",
    "df = df.dropna(subset=['post_message'])\n",
    "df['timestamp_post'] = df['timestamp_post'].fillna(pd.Timestamp(0)) # empty timestamp\n",
    "df = df.fillna(0)\n",
    "df = df.drop_duplicates(subset='post_message', keep='first')\n",
    "\n",
    "# convert dtype of num_like, comment, share feature to int64\n",
    "df.iloc[:, 4:8] = df.iloc[:, 4:8].astype('int64')"
   ]
  },
  {
   "cell_type": "code",
   "execution_count": 9,
   "id": "f08a3fb7",
   "metadata": {},
   "outputs": [
    {
     "name": "stdout",
     "output_type": "stream",
     "text": [
      "<class 'pandas.core.frame.DataFrame'>\n",
      "Int64Index: 4868 entries, 0 to 799\n",
      "Data columns (total 8 columns):\n",
      " #   Column            Non-Null Count  Dtype         \n",
      "---  ------            --------------  -----         \n",
      " 0   id                4868 non-null   float64       \n",
      " 1   user_name         4868 non-null   object        \n",
      " 2   post_message      4868 non-null   object        \n",
      " 3   timestamp_post    4868 non-null   datetime64[ns]\n",
      " 4   num_like_post     4868 non-null   int64         \n",
      " 5   num_comment_post  4868 non-null   int64         \n",
      " 6   num_share_post    4868 non-null   int64         \n",
      " 7   label             4868 non-null   int64         \n",
      "dtypes: datetime64[ns](1), float64(1), int64(4), object(2)\n",
      "memory usage: 342.3+ KB\n"
     ]
    }
   ],
   "source": [
    "df.info()"
   ]
  },
  {
   "cell_type": "markdown",
   "id": "97d9f1ea",
   "metadata": {},
   "source": [
    "# TF-IDF features"
   ]
  },
  {
   "cell_type": "code",
   "execution_count": 10,
   "id": "3bdc0e08",
   "metadata": {},
   "outputs": [],
   "source": [
    "from sklearn.feature_extraction.text import TfidfVectorizer\n",
    "from sklearn.decomposition import TruncatedSVD\n",
    "from sklearn.preprocessing import MinMaxScaler, StandardScaler\n",
    "from pyvi import ViTokenizer\n",
    "import time\n",
    "import string"
   ]
  },
  {
   "cell_type": "code",
   "execution_count": 11,
   "id": "1429f282",
   "metadata": {},
   "outputs": [],
   "source": [
    "from vncorenlp import VnCoreNLP\n",
    "rdrsegmenter = VnCoreNLP(\"data/vncorenlp/VnCoreNLP-1.1.1.jar\", annotators=\"wseg\", max_heap_size='-Xmx500m') "
   ]
  },
  {
   "cell_type": "code",
   "execution_count": 12,
   "id": "c2e779aa",
   "metadata": {},
   "outputs": [],
   "source": [
    "# get stopwords list\n",
    "f = open('data/vietnamese-stopwords-dash.txt', 'r', encoding=\"utf8\")\n",
    "stopwords = f.read().split('\\n')\n",
    "\n",
    "# remove stopwords in news text\n",
    "def clean_stopwords(text_list):\n",
    "  ''' sent_list: already tokenized text in list type\n",
    "  '''\n",
    "  clean_text = []\n",
    "  for word in text_list:\n",
    "    if word not in stopwords:\n",
    "      clean_text.append()\n",
    "  return clean_text\n",
    "\n",
    "def tokenize(text):\n",
    "  text = text.translate(str.maketrans('', '', string.punctuation)) # clean punctuation\n",
    "  text = rdrsegmenter.tokenize(text.lower())\n",
    "  return text[0]"
   ]
  },
  {
   "cell_type": "code",
   "execution_count": 13,
   "id": "8353a7dd",
   "metadata": {},
   "outputs": [
    {
     "name": "stdout",
     "output_type": "stream",
     "text": [
      "35.11665344238281\n"
     ]
    }
   ],
   "source": [
    "start = time.time()\n",
    "\n",
    "# get tfidf vectors with n_gram = 2\n",
    "vectorizer = TfidfVectorizer(tokenizer=tokenize, ngram_range=(1, 2), max_features=50000)\n",
    "X_tfidf = vectorizer.fit_transform(df['post_message'])\n",
    "\n",
    "end = time.time()\n",
    "print(end - start)"
   ]
  },
  {
   "cell_type": "code",
   "execution_count": 14,
   "id": "d8797275",
   "metadata": {},
   "outputs": [],
   "source": [
    "# reduce dimensionality of tfidf vector to 100 dimensions as recommended for tfidf\n",
    "svd = TruncatedSVD(n_components=100, algorithm='arpack')\n",
    "X_tfidf_svd = svd.fit_transform(X_tfidf)"
   ]
  },
  {
   "cell_type": "code",
   "execution_count": 15,
   "id": "d109af6d",
   "metadata": {},
   "outputs": [],
   "source": [
    "# scale data to (0, 1) range as we've performed dimension reduction\n",
    "scaler1 = MinMaxScaler()\n",
    "X1 = scaler1.fit_transform(X_tfidf_svd)"
   ]
  },
  {
   "cell_type": "markdown",
   "id": "8273821e",
   "metadata": {},
   "source": [
    "# Custom features"
   ]
  },
  {
   "cell_type": "code",
   "execution_count": 16,
   "id": "26579b9d",
   "metadata": {},
   "outputs": [],
   "source": [
    "def extract_feature(data):\n",
    "  \n",
    "  text = data[2] # get text content\n",
    "  \n",
    "  num_punct, num_one, num_two, num_three_gtt, \\\n",
    "  num_numbers, num_stopwords, \\\n",
    "  num_upper, num_any_upper, num_hashtag, \\\n",
    "  num_N , num_V, num_A, num_url = [0]*13\n",
    "  \n",
    "  tokens = rdrsegmenter.tokenize(text)[0]\n",
    "  distinct = set()\n",
    "  \n",
    "  for token in tokens:\n",
    "    \n",
    "    if token in string.punctuation:\n",
    "      num_punct+=1\n",
    "    \n",
    "    if len(token.split('_')) == 1:\n",
    "      num_one+=1\n",
    "    elif len(token.split('_')) == 2:\n",
    "      num_two+=1\n",
    "    else:\n",
    "      num_three_gtt+=1\n",
    "      \n",
    "    if token.isnumeric(): \n",
    "      num_numbers+=1\n",
    "      \n",
    "    if token.lower() in stopwords:\n",
    "      num_stopwords+=1\n",
    "      \n",
    "    if token.isupper():\n",
    "      num_upper+=1\n",
    "      \n",
    "    if any(char.isupper() for char in token):\n",
    "      num_any_upper+=1\n",
    "      \n",
    "    if token.startswith('#'):\n",
    "      num_hashtag+=1\n",
    "      \n",
    "    if 'url' in token.lower():\n",
    "      num_url+=1\n",
    "      \n",
    "    '''if tag == 'N':\n",
    "      num_N.append(token)\n",
    "      \n",
    "    if tag == 'A':\n",
    "      num_A.append(token)\n",
    "      \n",
    "    if tag == 'V':\n",
    "      num_V.append(token)'''\n",
    "      \n",
    "    distinct.add(token.lower())\n",
    "  \n",
    "  features = [len(tokens), # number of total word tokens (without punctuation)\n",
    "              #len(text), # number of characters \n",
    "              num_punct, # number of punctuation\n",
    "              num_one, # number of 1 word tokens\n",
    "              num_two, # number of 2 words tokens\n",
    "              num_three_gtt, # number of >=3 words tokens\n",
    "              num_numbers, # number of token that is numeric\n",
    "              num_stopwords, # number of token that is a stopword\n",
    "              num_upper, # number of token that is in full CAPITAL\n",
    "              num_any_upper, # number of token that contains any CAPITAL character\n",
    "              len(distinct), # number of distinct tokens\n",
    "              num_hashtag, # number of hashtags\n",
    "              data[4], # number of likes on post\n",
    "              data[5], # number of comments on post\n",
    "              data[6], # number of shares\n",
    "              data[3].hour,\n",
    "              data[3].day_of_week,\n",
    "              data[3].month,\n",
    "              data[3].day,\n",
    "              num_url,\n",
    "              #num_N , num_V, num_A,\n",
    "             ]\n",
    "  return features"
   ]
  },
  {
   "cell_type": "code",
   "execution_count": 17,
   "id": "f3eb7f3d",
   "metadata": {},
   "outputs": [
    {
     "name": "stdout",
     "output_type": "stream",
     "text": [
      "48.77118134498596\n"
     ]
    }
   ],
   "source": [
    "start = time.time()\n",
    "\n",
    "# extract custom features \n",
    "X_cf = np.array([extract_feature(df.iloc[i, :]) for i in range(df.shape[0])])\n",
    "\n",
    "end = time.time()\n",
    "print(end - start)"
   ]
  },
  {
   "cell_type": "code",
   "execution_count": 18,
   "id": "95bde3c4",
   "metadata": {},
   "outputs": [],
   "source": [
    "scaler2 = MinMaxScaler()\n",
    "X2 = scaler2.fit_transform(X_cf)"
   ]
  },
  {
   "cell_type": "code",
   "execution_count": 19,
   "id": "d608ac46",
   "metadata": {},
   "outputs": [
    {
     "name": "stdout",
     "output_type": "stream",
     "text": [
      "Trong giờ học Thể dụ‌c do thầy giáo Nguyễn Văn Quân phụ trác‌h, em D. đã bị thầy Quân “đi đường quyền” lên người dẫn đến việc bị ngấ‌t tại trường và sau đó đã được Ban giám hiệu nhà trường đưa đi cấp cứ‌u để điều trị.\n"
     ]
    },
    {
     "data": {
      "text/html": [
       "<div>\n",
       "<style scoped>\n",
       "    .dataframe tbody tr th:only-of-type {\n",
       "        vertical-align: middle;\n",
       "    }\n",
       "\n",
       "    .dataframe tbody tr th {\n",
       "        vertical-align: top;\n",
       "    }\n",
       "\n",
       "    .dataframe thead th {\n",
       "        text-align: right;\n",
       "    }\n",
       "</style>\n",
       "<table border=\"1\" class=\"dataframe\">\n",
       "  <thead>\n",
       "    <tr style=\"text-align: right;\">\n",
       "      <th></th>\n",
       "      <th>Total tokens</th>\n",
       "      <th>Punctuation</th>\n",
       "      <th>1 word</th>\n",
       "      <th>2 words</th>\n",
       "      <th>&gt;=3 words</th>\n",
       "      <th>Numeric</th>\n",
       "      <th>Stopwords</th>\n",
       "      <th>CAPITAL</th>\n",
       "      <th>1 CAPITAL</th>\n",
       "      <th>Distinct</th>\n",
       "      <th>Hashtags</th>\n",
       "      <th>Likes</th>\n",
       "      <th>Comments</th>\n",
       "      <th>Shares</th>\n",
       "      <th>Hour</th>\n",
       "      <th>Weekday</th>\n",
       "      <th>Month</th>\n",
       "      <th>Day</th>\n",
       "      <th>URL</th>\n",
       "    </tr>\n",
       "  </thead>\n",
       "  <tbody>\n",
       "    <tr>\n",
       "      <th>0</th>\n",
       "      <td>45</td>\n",
       "      <td>2</td>\n",
       "      <td>40</td>\n",
       "      <td>3</td>\n",
       "      <td>2</td>\n",
       "      <td>0</td>\n",
       "      <td>21</td>\n",
       "      <td>1</td>\n",
       "      <td>6</td>\n",
       "      <td>42</td>\n",
       "      <td>0</td>\n",
       "      <td>2</td>\n",
       "      <td>1</td>\n",
       "      <td>0</td>\n",
       "      <td>4</td>\n",
       "      <td>1</td>\n",
       "      <td>5</td>\n",
       "      <td>26</td>\n",
       "      <td>0</td>\n",
       "    </tr>\n",
       "  </tbody>\n",
       "</table>\n",
       "</div>"
      ],
      "text/plain": [
       "   Total tokens  Punctuation  1 word  2 words  >=3 words  Numeric  Stopwords  \\\n",
       "0            45            2      40        3          2        0         21   \n",
       "\n",
       "   CAPITAL  1 CAPITAL  Distinct  Hashtags  Likes  Comments  Shares  Hour  \\\n",
       "0        1          6        42         0      2         1       0     4   \n",
       "\n",
       "   Weekday  Month  Day  URL  \n",
       "0        1      5   26    0  "
      ]
     },
     "execution_count": 19,
     "metadata": {},
     "output_type": "execute_result"
    }
   ],
   "source": [
    "# example of custom features extraction\n",
    "print(df['post_message'][5])\n",
    "\n",
    "pd.DataFrame(extract_feature(df.iloc[5, :]), index=['Total tokens', 'Punctuation',\n",
    "                             '1 word', '2 words', '>=3 words', 'Numeric', \n",
    "                             'Stopwords', 'CAPITAL', '1 CAPITAL', 'Distinct',\n",
    "                             'Hashtags', 'Likes', 'Comments', 'Shares',\n",
    "                             'Hour', 'Weekday', 'Month', 'Day', 'URL']).T"
   ]
  },
  {
   "cell_type": "markdown",
   "id": "965eac66",
   "metadata": {},
   "source": [
    "# Combine 2 features"
   ]
  },
  {
   "cell_type": "code",
   "execution_count": 20,
   "id": "139b0f83",
   "metadata": {},
   "outputs": [
    {
     "data": {
      "text/plain": [
       "(4868, 119)"
      ]
     },
     "execution_count": 20,
     "metadata": {},
     "output_type": "execute_result"
    }
   ],
   "source": [
    "# combine tf-idf and custom features\n",
    "X_cb = np.append(X_tfidf_svd, X_cf, axis=1)\n",
    "X_cb.shape"
   ]
  },
  {
   "cell_type": "code",
   "execution_count": 21,
   "id": "c555dbe3",
   "metadata": {},
   "outputs": [],
   "source": [
    "scaler3 = MinMaxScaler()\n",
    "X3 = scaler3.fit_transform(X_cb)"
   ]
  },
  {
   "cell_type": "markdown",
   "id": "3f9011f7",
   "metadata": {},
   "source": [
    "# Models"
   ]
  },
  {
   "cell_type": "code",
   "execution_count": 22,
   "id": "e4991361",
   "metadata": {},
   "outputs": [],
   "source": [
    "from sklearn.model_selection import train_test_split\n",
    "from sklearn.tree import DecisionTreeClassifier\n",
    "from sklearn.neighbors import KNeighborsClassifier\n",
    "from sklearn.ensemble import RandomForestClassifier\n",
    "from sklearn.linear_model import LogisticRegression\n",
    "'''from sklearn.linear_model import SGDClassifier'''\n",
    "from sklearn import svm\n",
    "from xgboost import XGBClassifier\n",
    "import lightgbm as lgb"
   ]
  },
  {
   "cell_type": "code",
   "execution_count": 23,
   "id": "6ce392a0",
   "metadata": {},
   "outputs": [
    {
     "name": "stdout",
     "output_type": "stream",
     "text": [
      "Tập train: 3894\n",
      "\t Tin thật: 3241\n",
      "\t Tin giả: 653\n",
      "\n",
      "Tập test: 974\n",
      "\t Tin thật: 809\n",
      "\t Tin giả: 165\n"
     ]
    }
   ],
   "source": [
    "y = np.array(df['label'])\n",
    "X1_train, X1_test, y_train, y_test = train_test_split(X1, y, test_size=0.2, random_state=42)\n",
    "X2_train, X2_test, y_train, y_test = train_test_split(X2, y, test_size=0.2, random_state=42)\n",
    "X3_train, X3_test, y_train, y_test = train_test_split(X3, y, test_size=0.2, random_state=42)\n",
    "\n",
    "print('Tập train:', len(X1_train))\n",
    "print('\\t Tin thật:', len([i for i in y_train if i == 0]))\n",
    "print('\\t Tin giả:', len([i for i in y_train if i == 1]))\n",
    "print()\n",
    "print('Tập test:', len(X1_test))\n",
    "print('\\t Tin thật:', len([i for i in y_test if i == 0]))\n",
    "print('\\t Tin giả:', len([i for i in y_test if i == 1]))"
   ]
  },
  {
   "cell_type": "code",
   "execution_count": 24,
   "id": "995626c0",
   "metadata": {},
   "outputs": [],
   "source": [
    "def knn(X_train, X_test, y_train):\n",
    "  neigh = KNeighborsClassifier(n_neighbors=3)\n",
    "  neigh.fit(X_train, y_train)\n",
    "  y_pred_neigh = neigh.predict(X_test)\n",
    "  return y_pred_neigh, neigh\n",
    "\n",
    "def logistic_regression(X_train, X_test, y_train):\n",
    "  clf_lr = LogisticRegression(random_state=0, max_iter=10000)\n",
    "  clf_lr.fit(X_train, y_train)\n",
    "  y_pred_lr = clf_lr.predict(X_test)\n",
    "  return y_pred_lr, clf_lr\n",
    "\n",
    "def decision_tree(X_train, X_test, y_train):\n",
    "  tree = DecisionTreeClassifier(random_state=0)\n",
    "  tree.fit(X_train, y_train)\n",
    "  y_pred_tree = tree.predict(X_test)\n",
    "  return y_pred_tree, tree\n",
    "\n",
    "def svc(X_train, X_test, y_train):\n",
    "  clf_svc = svm.LinearSVC()#kernel='linear')\n",
    "  clf_svc.fit(X_train, y_train)\n",
    "  y_pred_svc = clf_svc.predict(X_test)\n",
    "  return y_pred_svc, clf_svc\n",
    "\n",
    "def random_forest(X_train, X_test, y_train):\n",
    "  clf_rf = RandomForestClassifier(random_state=0)\n",
    "  clf_rf.fit(X_train, y_train)\n",
    "  y_pred_rf = clf_rf.predict(X_test)\n",
    "  return y_pred_rf, clf_rf\n",
    "\n",
    "def lgbm(X_train, X_test, y_train):\n",
    "  clf_lgbm = lgb.LGBMClassifier(random_state=0)\n",
    "  clf_lgbm.fit(X_train, y_train)\n",
    "  y_pred_lgbm = clf_lgbm.predict(X_test)\n",
    "  return y_pred_lgbm, clf_lgbm\n",
    "\n",
    "def xgb(X_train, X_test, y_train):\n",
    "  clf_xgb = XGBClassifier(eval_metric='logloss', use_label_encoder=False)\n",
    "  clf_xgb.fit(X_train, y_train)\n",
    "  y_pred_xgb = clf_xgb.predict(X_test)\n",
    "  return y_pred_xgb, clf_xgb"
   ]
  },
  {
   "cell_type": "code",
   "execution_count": 25,
   "id": "a57b130b",
   "metadata": {},
   "outputs": [],
   "source": [
    "# tfidf\n",
    "pred1_tree, model1_tree = decision_tree(X1_train, X1_test, y_train)\n",
    "pred1_lr, model1_lr = logistic_regression(X1_train, X1_test, y_train)\n",
    "pred1_knn, model1_knn = knn(X1_train, X1_test, y_train)\n",
    "pred1_svc, model1_svc = svc(X1_train, X1_test, y_train)\n",
    "pred1_rf, model1_rf = random_forest(X1_train, X1_test, y_train)\n",
    "pred1_lgbm, model1_lgbm = lgbm(X1_train, X1_test, y_train)\n",
    "pred1_xgb, model1_xgb = xgb(X1_train, X1_test, y_train)"
   ]
  },
  {
   "cell_type": "code",
   "execution_count": 26,
   "id": "641ad5b3",
   "metadata": {},
   "outputs": [],
   "source": [
    "# custom features\n",
    "pred2_tree, model2_tree = decision_tree(X2_train, X2_test, y_train)\n",
    "pred2_lr, model2_lr = logistic_regression(X2_train, X2_test, y_train)\n",
    "pred2_knn, model2_knn = knn(X2_train, X2_test, y_train)\n",
    "pred2_svc, model2_svc = svc(X2_train, X2_test, y_train)\n",
    "pred2_rf, model2_rf = random_forest(X2_train, X2_test, y_train)\n",
    "pred2_lgbm, model2_lgbm = lgbm(X2_train, X2_test, y_train)\n",
    "pred2_xgb, model2_xgb = xgb(X2_train, X2_test, y_train)"
   ]
  },
  {
   "cell_type": "code",
   "execution_count": 27,
   "id": "b2f46c82",
   "metadata": {},
   "outputs": [],
   "source": [
    "# combined features\n",
    "pred3_tree, model3_tree = decision_tree(X3_train, X3_test, y_train)\n",
    "pred3_lr, model3_lr = logistic_regression(X3_train, X3_test, y_train)\n",
    "pred3_knn, model3_knn = knn(X3_train, X3_test, y_train)\n",
    "pred3_svc, model3_svc = svc(X3_train, X3_test, y_train)\n",
    "pred3_rf, model3_rf = random_forest(X3_train, X3_test, y_train)\n",
    "pred3_lgbm, model3_lgbm = lgbm(X3_train, X3_test, y_train)\n",
    "pred3_xgb, model3_xgb = xgb(X3_train, X3_test, y_train)"
   ]
  },
  {
   "cell_type": "markdown",
   "id": "ce61f747",
   "metadata": {},
   "source": [
    "# Evaluation"
   ]
  },
  {
   "cell_type": "code",
   "execution_count": 28,
   "id": "ccf5edf4",
   "metadata": {},
   "outputs": [],
   "source": [
    "from sklearn.metrics import classification_report, accuracy_score, roc_auc_score\n",
    "import seaborn as sns\n",
    "import matplotlib.pyplot as plt\n",
    "from textwrap import wrap"
   ]
  },
  {
   "cell_type": "code",
   "execution_count": 29,
   "id": "5f49f2c1",
   "metadata": {},
   "outputs": [],
   "source": [
    "def evaluate(pred, true):\n",
    "  #print('-----------------------------------------------------')\n",
    "  acc = accuracy_score(pred, true)\n",
    "  print(classification_report(pred, true))\n",
    "  print('Accuracy:', acc)\n",
    "  auc = roc_auc_score(true, pred)\n",
    "  print('AUC:', auc)\n",
    "  print('-----------------------------------------------------')\n",
    "  print()\n",
    "  return acc, auc"
   ]
  },
  {
   "cell_type": "code",
   "execution_count": 30,
   "id": "2fd3dfe3",
   "metadata": {
    "scrolled": false
   },
   "outputs": [
    {
     "name": "stdout",
     "output_type": "stream",
     "text": [
      "Logistic Regression\n",
      "              precision    recall  f1-score   support\n",
      "\n",
      "           0       0.98      0.88      0.93       897\n",
      "           1       0.36      0.77      0.49        77\n",
      "\n",
      "    accuracy                           0.87       974\n",
      "   macro avg       0.67      0.82      0.71       974\n",
      "weighted avg       0.93      0.87      0.89       974\n",
      "\n",
      "Accuracy: 0.8726899383983573\n",
      "AUC: 0.6676630332996217\n",
      "-----------------------------------------------------\n",
      "\n",
      "K-nearest-neighbor\n",
      "              precision    recall  f1-score   support\n",
      "\n",
      "           0       0.95      0.88      0.91       867\n",
      "           1       0.39      0.60      0.47       107\n",
      "\n",
      "    accuracy                           0.85       974\n",
      "   macro avg       0.67      0.74      0.69       974\n",
      "weighted avg       0.89      0.85      0.87       974\n",
      "\n",
      "Accuracy: 0.8521560574948666\n",
      "AUC: 0.6673633741618908\n",
      "-----------------------------------------------------\n",
      "\n",
      "SVM\n",
      "              precision    recall  f1-score   support\n",
      "\n",
      "           0       0.97      0.89      0.93       884\n",
      "           1       0.39      0.72      0.51        90\n",
      "\n",
      "    accuracy                           0.87       974\n",
      "   macro avg       0.68      0.80      0.72       974\n",
      "weighted avg       0.92      0.87      0.89       974\n",
      "\n",
      "Accuracy: 0.8716632443531828\n",
      "AUC: 0.6815185226804511\n",
      "-----------------------------------------------------\n",
      "\n",
      "Decision Tree\n",
      "              precision    recall  f1-score   support\n",
      "\n",
      "           0       0.86      0.87      0.87       797\n",
      "           1       0.39      0.36      0.37       177\n",
      "\n",
      "    accuracy                           0.78       974\n",
      "   macro avg       0.62      0.62      0.62       974\n",
      "weighted avg       0.77      0.78      0.78       974\n",
      "\n",
      "Accuracy: 0.7802874743326489\n",
      "AUC: 0.6241000861520022\n",
      "-----------------------------------------------------\n",
      "\n",
      "Random Forest\n",
      "              precision    recall  f1-score   support\n",
      "\n",
      "           0       0.99      0.87      0.92       926\n",
      "           1       0.24      0.83      0.38        48\n",
      "\n",
      "    accuracy                           0.86       974\n",
      "   macro avg       0.62      0.85      0.65       974\n",
      "weighted avg       0.95      0.86      0.90       974\n",
      "\n",
      "Accuracy: 0.8634496919917864\n",
      "AUC: 0.6162677454395625\n",
      "-----------------------------------------------------\n",
      "\n",
      "LightGBM\n",
      "              precision    recall  f1-score   support\n",
      "\n",
      "           0       0.98      0.90      0.94       886\n",
      "           1       0.44      0.82      0.57        88\n",
      "\n",
      "    accuracy                           0.89       974\n",
      "   macro avg       0.71      0.86      0.75       974\n",
      "weighted avg       0.93      0.89      0.90       974\n",
      "\n",
      "Accuracy: 0.8880903490759754\n",
      "AUC: 0.7082930666367008\n",
      "-----------------------------------------------------\n",
      "\n",
      "XGB\n",
      "              precision    recall  f1-score   support\n",
      "\n",
      "           0       0.98      0.90      0.94       881\n",
      "           1       0.47      0.83      0.60        93\n",
      "\n",
      "    accuracy                           0.89       974\n",
      "   macro avg       0.72      0.86      0.77       974\n",
      "weighted avg       0.93      0.89      0.91       974\n",
      "\n",
      "Accuracy: 0.893223819301848\n",
      "AUC: 0.7234445817882159\n",
      "-----------------------------------------------------\n",
      "\n"
     ]
    }
   ],
   "source": [
    "# evaluation on tfidf features\n",
    "\n",
    "print('Logistic Regression')\n",
    "acc1_lr, auc1_lr = evaluate(pred1_lr, y_test)\n",
    "\n",
    "print('K-nearest-neighbor')\n",
    "acc1_knn, auc1_knn = evaluate(pred1_knn, y_test)\n",
    "\n",
    "print('SVM')\n",
    "acc1_svc, auc1_svc = evaluate(pred1_svc, y_test)\n",
    "\n",
    "print('Decision Tree')\n",
    "acc1_tree, auc1_tree = evaluate(pred1_tree, y_test)\n",
    "\n",
    "print('Random Forest')\n",
    "acc1_rf, auc1_rf = evaluate(pred1_rf, y_test)\n",
    "\n",
    "print('LightGBM')\n",
    "acc1_lgbm, auc1_lgbm = evaluate(pred1_lgbm, y_test)\n",
    "\n",
    "print('XGB')\n",
    "acc1_xgb, auc1_xgb = evaluate(pred1_xgb, y_test)"
   ]
  },
  {
   "cell_type": "code",
   "execution_count": 31,
   "id": "18d42078",
   "metadata": {
    "scrolled": false
   },
   "outputs": [
    {
     "name": "stdout",
     "output_type": "stream",
     "text": [
      "Logistic Regression\n",
      "              precision    recall  f1-score   support\n",
      "\n",
      "           0       1.00      0.83      0.91       974\n",
      "           1       0.00      0.00      0.00         0\n",
      "\n",
      "    accuracy                           0.83       974\n",
      "   macro avg       0.50      0.42      0.45       974\n",
      "weighted avg       1.00      0.83      0.91       974\n",
      "\n",
      "Accuracy: 0.8305954825462012\n",
      "AUC: 0.5\n",
      "-----------------------------------------------------\n",
      "\n",
      "K-nearest-neighbor\n",
      "              precision    recall  f1-score   support\n",
      "\n",
      "           0       0.94      0.86      0.90       891\n",
      "           1       0.22      0.43      0.29        83\n",
      "\n",
      "    accuracy                           0.82       974\n",
      "   macro avg       0.58      0.64      0.59       974\n",
      "weighted avg       0.88      0.82      0.84       974\n",
      "\n",
      "Accuracy: 0.8193018480492813\n",
      "AUC: 0.5800427014271267\n",
      "-----------------------------------------------------\n",
      "\n",
      "SVM\n",
      "              precision    recall  f1-score   support\n",
      "\n",
      "           0       1.00      0.83      0.91       972\n",
      "           1       0.01      1.00      0.02         2\n",
      "\n",
      "    accuracy                           0.83       974\n",
      "   macro avg       0.51      0.92      0.47       974\n",
      "weighted avg       1.00      0.83      0.91       974\n",
      "\n",
      "Accuracy: 0.8326488706365504\n",
      "AUC: 0.5060606060606061\n",
      "-----------------------------------------------------\n",
      "\n",
      "Decision Tree\n",
      "              precision    recall  f1-score   support\n",
      "\n",
      "           0       0.84      0.88      0.86       780\n",
      "           1       0.41      0.35      0.38       194\n",
      "\n",
      "    accuracy                           0.77       974\n",
      "   macro avg       0.63      0.61      0.62       974\n",
      "weighted avg       0.76      0.77      0.76       974\n",
      "\n",
      "Accuracy: 0.771047227926078\n",
      "AUC: 0.6281866876428063\n",
      "-----------------------------------------------------\n",
      "\n",
      "Random Forest\n",
      "              precision    recall  f1-score   support\n",
      "\n",
      "           0       0.98      0.87      0.92       910\n",
      "           1       0.28      0.73      0.41        64\n",
      "\n",
      "    accuracy                           0.86       974\n",
      "   macro avg       0.63      0.80      0.67       974\n",
      "weighted avg       0.93      0.86      0.89       974\n",
      "\n",
      "Accuracy: 0.8613963039014374\n",
      "AUC: 0.6319174439075551\n",
      "-----------------------------------------------------\n",
      "\n",
      "LightGBM\n",
      "              precision    recall  f1-score   support\n",
      "\n",
      "           0       0.97      0.89      0.92       884\n",
      "           1       0.39      0.71      0.50        90\n",
      "\n",
      "    accuracy                           0.87       974\n",
      "   macro avg       0.68      0.80      0.71       974\n",
      "weighted avg       0.91      0.87      0.89       974\n",
      "\n",
      "Accuracy: 0.8696098562628337\n",
      "AUC: 0.6778701726785782\n",
      "-----------------------------------------------------\n",
      "\n",
      "XGB\n",
      "              precision    recall  f1-score   support\n",
      "\n",
      "           0       0.96      0.89      0.92       876\n",
      "           1       0.39      0.66      0.49        98\n",
      "\n",
      "    accuracy                           0.86       974\n",
      "   macro avg       0.68      0.77      0.71       974\n",
      "weighted avg       0.90      0.86      0.88       974\n",
      "\n",
      "Accuracy: 0.8634496919917864\n",
      "AUC: 0.6765741469078923\n",
      "-----------------------------------------------------\n",
      "\n"
     ]
    },
    {
     "name": "stderr",
     "output_type": "stream",
     "text": [
      "C:\\Users\\vince\\anaconda3\\lib\\site-packages\\sklearn\\metrics\\_classification.py:1248: UndefinedMetricWarning: Recall and F-score are ill-defined and being set to 0.0 in labels with no true samples. Use `zero_division` parameter to control this behavior.\n",
      "  _warn_prf(average, modifier, msg_start, len(result))\n",
      "C:\\Users\\vince\\anaconda3\\lib\\site-packages\\sklearn\\metrics\\_classification.py:1248: UndefinedMetricWarning: Recall and F-score are ill-defined and being set to 0.0 in labels with no true samples. Use `zero_division` parameter to control this behavior.\n",
      "  _warn_prf(average, modifier, msg_start, len(result))\n",
      "C:\\Users\\vince\\anaconda3\\lib\\site-packages\\sklearn\\metrics\\_classification.py:1248: UndefinedMetricWarning: Recall and F-score are ill-defined and being set to 0.0 in labels with no true samples. Use `zero_division` parameter to control this behavior.\n",
      "  _warn_prf(average, modifier, msg_start, len(result))\n"
     ]
    }
   ],
   "source": [
    "# evaluation on custom features\n",
    "\n",
    "print('Logistic Regression')\n",
    "acc2_lr, auc2_lr = evaluate(pred2_lr, y_test)\n",
    "\n",
    "print('K-nearest-neighbor')\n",
    "acc2_knn, auc2_knn = evaluate(pred2_knn, y_test)\n",
    "\n",
    "print('SVM')\n",
    "acc2_svc, auc2_svc = evaluate(pred2_svc, y_test)\n",
    "\n",
    "print('Decision Tree')\n",
    "acc2_tree, auc2_tree = evaluate(pred2_tree, y_test)\n",
    "\n",
    "print('Random Forest')\n",
    "acc2_rf, auc2_rf = evaluate(pred2_rf, y_test)\n",
    "\n",
    "print('LightGBM')\n",
    "acc2_lgbm, auc2_lgbm = evaluate(pred2_lgbm, y_test)\n",
    "\n",
    "print('XGB')\n",
    "acc2_xgb, auc2_xgb = evaluate(pred2_xgb, y_test)"
   ]
  },
  {
   "cell_type": "code",
   "execution_count": 32,
   "id": "e79f8e13",
   "metadata": {
    "scrolled": false
   },
   "outputs": [
    {
     "name": "stdout",
     "output_type": "stream",
     "text": [
      "Logistic Regression\n",
      "              precision    recall  f1-score   support\n",
      "\n",
      "           0       0.97      0.89      0.93       888\n",
      "           1       0.39      0.74      0.51        86\n",
      "\n",
      "    accuracy                           0.87       974\n",
      "   macro avg       0.68      0.82      0.72       974\n",
      "weighted avg       0.92      0.87      0.89       974\n",
      "\n",
      "Accuracy: 0.8737166324435318\n",
      "AUC: 0.6803423605648575\n",
      "-----------------------------------------------------\n",
      "\n",
      "K-nearest-neighbor\n",
      "              precision    recall  f1-score   support\n",
      "\n",
      "           0       0.95      0.87      0.91       882\n",
      "           1       0.32      0.57      0.40        92\n",
      "\n",
      "    accuracy                           0.84       974\n",
      "   macro avg       0.63      0.72      0.66       974\n",
      "weighted avg       0.89      0.84      0.86       974\n",
      "\n",
      "Accuracy: 0.8429158110882957\n",
      "AUC: 0.632853878712964\n",
      "-----------------------------------------------------\n",
      "\n",
      "SVM\n",
      "              precision    recall  f1-score   support\n",
      "\n",
      "           0       0.97      0.89      0.93       879\n",
      "           1       0.42      0.73      0.53        95\n",
      "\n",
      "    accuracy                           0.87       974\n",
      "   macro avg       0.69      0.81      0.73       974\n",
      "weighted avg       0.91      0.87      0.89       974\n",
      "\n",
      "Accuracy: 0.8747433264887063\n",
      "AUC: 0.6930216878300933\n",
      "-----------------------------------------------------\n",
      "\n",
      "Decision Tree\n",
      "              precision    recall  f1-score   support\n",
      "\n",
      "           0       0.90      0.89      0.90       815\n",
      "           1       0.47      0.49      0.48       159\n",
      "\n",
      "    accuracy                           0.83       974\n",
      "   macro avg       0.69      0.69      0.69       974\n",
      "weighted avg       0.83      0.83      0.83       974\n",
      "\n",
      "Accuracy: 0.8275154004106776\n",
      "AUC: 0.6863018316664793\n",
      "-----------------------------------------------------\n",
      "\n",
      "Random Forest\n",
      "              precision    recall  f1-score   support\n",
      "\n",
      "           0       1.00      0.87      0.93       931\n",
      "           1       0.25      0.95      0.39        43\n",
      "\n",
      "    accuracy                           0.87       974\n",
      "   macro avg       0.62      0.91      0.66       974\n",
      "weighted avg       0.96      0.87      0.90       974\n",
      "\n",
      "Accuracy: 0.8706365503080082\n",
      "AUC: 0.6230063302992846\n",
      "-----------------------------------------------------\n",
      "\n",
      "LightGBM\n",
      "              precision    recall  f1-score   support\n",
      "\n",
      "           0       0.98      0.91      0.95       875\n",
      "           1       0.52      0.87      0.65        99\n",
      "\n",
      "    accuracy                           0.91       974\n",
      "   macro avg       0.75      0.89      0.80       974\n",
      "weighted avg       0.94      0.91      0.92       974\n",
      "\n",
      "Accuracy: 0.9055441478439425\n",
      "AUC: 0.7525714499756527\n",
      "-----------------------------------------------------\n",
      "\n",
      "XGB\n",
      "              precision    recall  f1-score   support\n",
      "\n",
      "           0       0.98      0.91      0.94       870\n",
      "           1       0.53      0.85      0.65       104\n",
      "\n",
      "    accuracy                           0.90       974\n",
      "   macro avg       0.76      0.88      0.80       974\n",
      "weighted avg       0.93      0.90      0.91       974\n",
      "\n",
      "Accuracy: 0.9045174537987679\n",
      "AUC: 0.7567779151215491\n",
      "-----------------------------------------------------\n",
      "\n"
     ]
    }
   ],
   "source": [
    "# evaluation on combined features\n",
    "\n",
    "print('Logistic Regression')\n",
    "acc3_lr, auc3_lr = evaluate(pred3_lr, y_test)\n",
    "\n",
    "print('K-nearest-neighbor')\n",
    "acc3_knn, auc3_knn = evaluate(pred3_knn, y_test)\n",
    "\n",
    "print('SVM')\n",
    "acc3_svc, auc3_svc = evaluate(pred3_svc, y_test)\n",
    "\n",
    "print('Decision Tree')\n",
    "acc3_tree, auc3_tree = evaluate(pred3_tree, y_test)\n",
    "\n",
    "print('Random Forest')\n",
    "acc3_rf, auc3_rf = evaluate(pred3_rf, y_test)\n",
    "\n",
    "print('LightGBM')\n",
    "acc3_lgbm, auc3_lgbm = evaluate(pred3_lgbm, y_test)\n",
    "\n",
    "print('XGB')\n",
    "acc3_xgb, auc3_xgb = evaluate(pred3_xgb, y_test)"
   ]
  },
  {
   "cell_type": "code",
   "execution_count": 33,
   "id": "39624bd8",
   "metadata": {},
   "outputs": [
    {
     "name": "stdout",
     "output_type": "stream",
     "text": [
      "Accuracy\n"
     ]
    },
    {
     "data": {
      "text/html": [
       "<div>\n",
       "<style scoped>\n",
       "    .dataframe tbody tr th:only-of-type {\n",
       "        vertical-align: middle;\n",
       "    }\n",
       "\n",
       "    .dataframe tbody tr th {\n",
       "        vertical-align: top;\n",
       "    }\n",
       "\n",
       "    .dataframe thead th {\n",
       "        text-align: right;\n",
       "    }\n",
       "</style>\n",
       "<table border=\"1\" class=\"dataframe\">\n",
       "  <thead>\n",
       "    <tr style=\"text-align: right;\">\n",
       "      <th></th>\n",
       "      <th>TF-IDF</th>\n",
       "      <th>Custom</th>\n",
       "      <th>Combined</th>\n",
       "    </tr>\n",
       "  </thead>\n",
       "  <tbody>\n",
       "    <tr>\n",
       "      <th>Logistic Regression</th>\n",
       "      <td>0.87</td>\n",
       "      <td>0.83</td>\n",
       "      <td>0.87</td>\n",
       "    </tr>\n",
       "    <tr>\n",
       "      <th>KNN</th>\n",
       "      <td>0.85</td>\n",
       "      <td>0.82</td>\n",
       "      <td>0.84</td>\n",
       "    </tr>\n",
       "    <tr>\n",
       "      <th>SVM</th>\n",
       "      <td>0.87</td>\n",
       "      <td>0.83</td>\n",
       "      <td>0.87</td>\n",
       "    </tr>\n",
       "    <tr>\n",
       "      <th>Decision Tree</th>\n",
       "      <td>0.78</td>\n",
       "      <td>0.77</td>\n",
       "      <td>0.83</td>\n",
       "    </tr>\n",
       "    <tr>\n",
       "      <th>Random Forest</th>\n",
       "      <td>0.86</td>\n",
       "      <td>0.86</td>\n",
       "      <td>0.87</td>\n",
       "    </tr>\n",
       "    <tr>\n",
       "      <th>LightGBM</th>\n",
       "      <td>0.89</td>\n",
       "      <td>0.87</td>\n",
       "      <td>0.91</td>\n",
       "    </tr>\n",
       "    <tr>\n",
       "      <th>XGB</th>\n",
       "      <td>0.89</td>\n",
       "      <td>0.86</td>\n",
       "      <td>0.90</td>\n",
       "    </tr>\n",
       "  </tbody>\n",
       "</table>\n",
       "</div>"
      ],
      "text/plain": [
       "                     TF-IDF  Custom  Combined\n",
       "Logistic Regression    0.87    0.83      0.87\n",
       "KNN                    0.85    0.82      0.84\n",
       "SVM                    0.87    0.83      0.87\n",
       "Decision Tree          0.78    0.77      0.83\n",
       "Random Forest          0.86    0.86      0.87\n",
       "LightGBM               0.89    0.87      0.91\n",
       "XGB                    0.89    0.86      0.90"
      ]
     },
     "execution_count": 33,
     "metadata": {},
     "output_type": "execute_result"
    }
   ],
   "source": [
    "print('Accuracy')\n",
    "models = ['Logistic Regression', 'KNN', 'SVM', 'Decision Tree', 'Random Forest', 'LightGBM', 'XGB']\n",
    "acc1 = np.around([acc1_lr, acc1_knn, acc1_svc, acc1_tree, acc1_rf, acc1_lgbm, acc1_xgb], 2)\n",
    "acc2 = np.around([acc2_lr, acc2_knn, acc2_svc, acc2_tree, acc2_rf, acc2_lgbm, acc2_xgb], 2)\n",
    "acc3 = np.around([acc3_lr, acc3_knn, acc3_svc, acc3_tree, acc3_rf, acc3_lgbm, acc3_xgb], 2)\n",
    "\n",
    "acc_df = pd.DataFrame([acc1, acc2, acc3], columns=models, index=['TF-IDF', 'Custom', 'Combined'])\n",
    "acc_df.T"
   ]
  },
  {
   "cell_type": "code",
   "execution_count": 34,
   "id": "0197c85d",
   "metadata": {},
   "outputs": [
    {
     "data": {
      "text/html": [
       "<div>\n",
       "<style scoped>\n",
       "    .dataframe tbody tr th:only-of-type {\n",
       "        vertical-align: middle;\n",
       "    }\n",
       "\n",
       "    .dataframe tbody tr th {\n",
       "        vertical-align: top;\n",
       "    }\n",
       "\n",
       "    .dataframe thead th {\n",
       "        text-align: right;\n",
       "    }\n",
       "</style>\n",
       "<table border=\"1\" class=\"dataframe\">\n",
       "  <thead>\n",
       "    <tr style=\"text-align: right;\">\n",
       "      <th></th>\n",
       "      <th>TF-IDF</th>\n",
       "      <th>Custom</th>\n",
       "      <th>Combined</th>\n",
       "    </tr>\n",
       "  </thead>\n",
       "  <tbody>\n",
       "    <tr>\n",
       "      <th>Logistic Regression</th>\n",
       "      <td>0.67</td>\n",
       "      <td>0.50</td>\n",
       "      <td>0.68</td>\n",
       "    </tr>\n",
       "    <tr>\n",
       "      <th>KNN</th>\n",
       "      <td>0.67</td>\n",
       "      <td>0.58</td>\n",
       "      <td>0.63</td>\n",
       "    </tr>\n",
       "    <tr>\n",
       "      <th>SVM</th>\n",
       "      <td>0.68</td>\n",
       "      <td>0.51</td>\n",
       "      <td>0.69</td>\n",
       "    </tr>\n",
       "    <tr>\n",
       "      <th>Decision Tree</th>\n",
       "      <td>0.62</td>\n",
       "      <td>0.63</td>\n",
       "      <td>0.69</td>\n",
       "    </tr>\n",
       "    <tr>\n",
       "      <th>Random Forest</th>\n",
       "      <td>0.62</td>\n",
       "      <td>0.63</td>\n",
       "      <td>0.62</td>\n",
       "    </tr>\n",
       "    <tr>\n",
       "      <th>LightGBM</th>\n",
       "      <td>0.71</td>\n",
       "      <td>0.68</td>\n",
       "      <td>0.75</td>\n",
       "    </tr>\n",
       "    <tr>\n",
       "      <th>XGB</th>\n",
       "      <td>0.72</td>\n",
       "      <td>0.68</td>\n",
       "      <td>0.76</td>\n",
       "    </tr>\n",
       "  </tbody>\n",
       "</table>\n",
       "</div>"
      ],
      "text/plain": [
       "                     TF-IDF  Custom  Combined\n",
       "Logistic Regression    0.67    0.50      0.68\n",
       "KNN                    0.67    0.58      0.63\n",
       "SVM                    0.68    0.51      0.69\n",
       "Decision Tree          0.62    0.63      0.69\n",
       "Random Forest          0.62    0.63      0.62\n",
       "LightGBM               0.71    0.68      0.75\n",
       "XGB                    0.72    0.68      0.76"
      ]
     },
     "execution_count": 34,
     "metadata": {},
     "output_type": "execute_result"
    }
   ],
   "source": [
    "auc1 = np.around([auc1_lr, auc1_knn, auc1_svc, auc1_tree, auc1_rf, auc1_lgbm, auc1_xgb], 2)\n",
    "auc2 = np.around([auc2_lr, auc2_knn, auc2_svc, auc2_tree, auc2_rf, auc2_lgbm, auc2_xgb], 2)\n",
    "auc3 = np.around([auc3_lr, auc3_knn, auc3_svc, auc3_tree, auc3_rf, auc3_lgbm, auc3_xgb], 2)\n",
    "\n",
    "auc_df = pd.DataFrame([auc1, auc2, auc3], columns=models, index=['TF-IDF', 'Custom', 'Combined'])\n",
    "auc_df.T"
   ]
  },
  {
   "cell_type": "code",
   "execution_count": 35,
   "id": "be7bc2c2",
   "metadata": {
    "scrolled": false
   },
   "outputs": [
    {
     "data": {
      "text/plain": [
       "<matplotlib.legend.Legend at 0x22424917f10>"
      ]
     },
     "execution_count": 35,
     "metadata": {},
     "output_type": "execute_result"
    },
    {
     "data": {
      "image/png": "[encoded data removed]",
      "text/plain": [
       "<Figure size 1800x1080 with 1 Axes>"
      ]
     },
     "metadata": {},
     "output_type": "display_data"
    }
   ],
   "source": [
    "# accuracy plot\n",
    "sns.set_theme(style=\"whitegrid\")\n",
    "labels = ['\\n'.join(wrap(x, 12)) for x in  models] # custom label multi-line\n",
    "sns.set_context('paper', font_scale=3.3)\n",
    "acc_df.T.plot(kind='bar', figsize=(25, 15), rot=0)\n",
    "plt.xticks(range(len(labels)), labels)\n",
    "plt.legend(bbox_to_anchor=(1.01, 1.02), loc=\"upper left\", title='Feature extraction')"
   ]
  },
  {
   "cell_type": "code",
   "execution_count": 36,
   "id": "dc33b741",
   "metadata": {},
   "outputs": [
    {
     "data": {
      "text/plain": [
       "<matplotlib.legend.Legend at 0x22424a12820>"
      ]
     },
     "execution_count": 36,
     "metadata": {},
     "output_type": "execute_result"
    },
    {
     "data": {
      "image/png": "[encoded data removed]",
      "text/plain": [
       "<Figure size 1800x1080 with 1 Axes>"
      ]
     },
     "metadata": {},
     "output_type": "display_data"
    }
   ],
   "source": [
    "# auc plot\n",
    "sns.set_context('paper', font_scale=3.3)\n",
    "auc_df.T.plot(kind='bar', figsize=(25, 15), rot=0)\n",
    "plt.legend(bbox_to_anchor=(1.04,1), loc=\"upper left\")\n",
    "plt.xticks(range(len(labels)), labels)\n",
    "plt.legend(bbox_to_anchor=(1.01, 1.02), loc=\"upper left\", title='Feature extraction')"
   ]
  },
  {
   "cell_type": "markdown",
   "id": "a55a168b",
   "metadata": {},
   "source": [
    "# Detection"
   ]
  },
  {
   "cell_type": "code",
   "execution_count": 37,
   "id": "81cbdd22",
   "metadata": {},
   "outputs": [],
   "source": [
    "# choose xgb as it shows the best performance with both 2 scores amongst  \n",
    "def detect(data):\n",
    "  # TF-IDF feature\n",
    "  tfidf = vectorizer.transform([' '.join(tokenize(data[2]))])\n",
    "  tfidf_svd = svd.transform(tfidf)\n",
    "  cf = extract_feature(data)\n",
    "  feature = scaler3.transform([np.append(tfidf_svd, cf)])\n",
    "  pred = model3_lgbm.predict(feature)\n",
    "  return pred"
   ]
  },
  {
   "cell_type": "code",
   "execution_count": 38,
   "id": "1d7f68bf",
   "metadata": {},
   "outputs": [],
   "source": [
    "def format_detect_input(text, like=0, comment=0, share=0, time=pd.Timestamp(0)):\n",
    "  inp = [0, 0, text, time, like, share, comment]\n",
    "  return inp"
   ]
  },
  {
   "cell_type": "code",
   "execution_count": 40,
   "id": "0291a291",
   "metadata": {},
   "outputs": [
    {
     "name": "stdout",
     "output_type": "stream",
     "text": [
      "Máy bay Vietnam Airlines bị dọa bắn hạ trên vịnh Tokyo. Một máy bay của Vietnam Airlines đã phải chuyển hướng hạ cánh sau cuộc điện thoại có nội dung đe dọa bắn hạ máy bay trên vịnh Tokyo. \n",
      "\n",
      "Nhãn dự đoán là: [1]\n"
     ]
    }
   ],
   "source": [
    "content = 'Máy bay Vietnam Airlines bị dọa bắn hạ trên vịnh Tokyo. Một máy bay của Vietnam Airlines đã phải chuyển hướng hạ cánh sau cuộc điện thoại có nội dung đe dọa bắn hạ máy bay trên vịnh Tokyo.'\n",
    "print(content, '\\n')\n",
    "test_input = format_detect_input(content)\n",
    "print('Nhãn dự đoán là:', detect(test_input))"
   ]
  },
  {
   "cell_type": "code",
   "execution_count": null,
   "id": "336de192",
   "metadata": {},
   "outputs": [],
   "source": []
  }
 ],
 "metadata": {
  "kernelspec": {
   "display_name": "Python 3 (ipykernel)",
   "language": "python",
   "name": "python3"
  },
  "language_info": {
   "codemirror_mode": {
    "name": "ipython",
    "version": 3
   },
   "file_extension": ".py",
   "mimetype": "text/x-python",
   "name": "python",
   "nbconvert_exporter": "python",
   "pygments_lexer": "ipython3",
   "version": "3.9.7"
  },
  "varInspector": {
   "cols": {
    "lenName": 16,
    "lenType": 16,
    "lenVar": 40
   },
   "kernels_config": {
    "python": {
     "delete_cmd_postfix": "",
     "delete_cmd_prefix": "del ",
     "library": "var_list.py",
     "varRefreshCmd": "print(var_dic_list())"
    },
    "r": {
     "delete_cmd_postfix": ") ",
     "delete_cmd_prefix": "rm(",
     "library": "var_list.r",
     "varRefreshCmd": "cat(var_dic_list()) "
    }
   },
   "types_to_exclude": [
    "module",
    "function",
    "builtin_function_or_method",
    "instance",
    "_Feature"
   ],
   "window_display": false
  }
 },
 "nbformat": 4,
 "nbformat_minor": 5
}
