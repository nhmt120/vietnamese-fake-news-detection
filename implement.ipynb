{
 "cells": [
  {
   "cell_type": "markdown",
   "id": "d1e0acc2",
   "metadata": {},
   "source": [
    "# Data collection"
   ]
  },
  {
   "cell_type": "code",
   "execution_count": 115,
   "id": "470a6eb9",
   "metadata": {},
   "outputs": [],
   "source": [
    "import numpy as np\n",
    "import pandas as pd"
   ]
  },
  {
   "cell_type": "code",
   "execution_count": 116,
   "id": "16c9994c",
   "metadata": {},
   "outputs": [
    {
     "data": {
      "text/html": [
       "<div>\n",
       "<style scoped>\n",
       "    .dataframe tbody tr th:only-of-type {\n",
       "        vertical-align: middle;\n",
       "    }\n",
       "\n",
       "    .dataframe tbody tr th {\n",
       "        vertical-align: top;\n",
       "    }\n",
       "\n",
       "    .dataframe thead th {\n",
       "        text-align: right;\n",
       "    }\n",
       "</style>\n",
       "<table border=\"1\" class=\"dataframe\">\n",
       "  <thead>\n",
       "    <tr style=\"text-align: right;\">\n",
       "      <th></th>\n",
       "      <th>id</th>\n",
       "      <th>user_name</th>\n",
       "      <th>post_message</th>\n",
       "      <th>timestamp_post</th>\n",
       "      <th>num_like_post</th>\n",
       "      <th>num_comment_post</th>\n",
       "      <th>num_share_post</th>\n",
       "      <th>label</th>\n",
       "    </tr>\n",
       "  </thead>\n",
       "  <tbody>\n",
       "    <tr>\n",
       "      <th>0</th>\n",
       "      <td>1</td>\n",
       "      <td>389c669730cb6c54314a46be785cea42</td>\n",
       "      <td>THĂNG CẤP BẬC HÀM ĐỐI VỚI 2 CÁN BỘ, CHIẾN SỸ H...</td>\n",
       "      <td>1585945439</td>\n",
       "      <td>19477</td>\n",
       "      <td>378</td>\n",
       "      <td>173.0</td>\n",
       "      <td>0</td>\n",
       "    </tr>\n",
       "    <tr>\n",
       "      <th>1</th>\n",
       "      <td>2</td>\n",
       "      <td>775baa6d037b6d359b229a656eaeaf08</td>\n",
       "      <td>&lt;URL&gt;</td>\n",
       "      <td>1588939166.0</td>\n",
       "      <td>11</td>\n",
       "      <td>5</td>\n",
       "      <td>3</td>\n",
       "      <td>0</td>\n",
       "    </tr>\n",
       "    <tr>\n",
       "      <th>2</th>\n",
       "      <td>3</td>\n",
       "      <td>b9f3394d2aff86d85974f5040c401f08</td>\n",
       "      <td>TƯ VẤN MÙA THI: Cách nộp hồ sơ để trúng tuyển ...</td>\n",
       "      <td>1591405213</td>\n",
       "      <td>48</td>\n",
       "      <td>5</td>\n",
       "      <td>19.0</td>\n",
       "      <td>0</td>\n",
       "    </tr>\n",
       "    <tr>\n",
       "      <th>3</th>\n",
       "      <td>4</td>\n",
       "      <td>808e278b22ec6b96f2faf7447d10cd8e</td>\n",
       "      <td>Cơ quan Cạnh tranh và Thị trường Anh quyết địn...</td>\n",
       "      <td>1592023613</td>\n",
       "      <td>3</td>\n",
       "      <td>0</td>\n",
       "      <td>0.0</td>\n",
       "      <td>0</td>\n",
       "    </tr>\n",
       "    <tr>\n",
       "      <th>4</th>\n",
       "      <td>5</td>\n",
       "      <td>f81bdd6d8be4c5f64bb664214e47aced</td>\n",
       "      <td>Thêm 7 ca tại Quảng Nam liên quan đến hành khá...</td>\n",
       "      <td>1583737358</td>\n",
       "      <td>775</td>\n",
       "      <td>0</td>\n",
       "      <td>54.0</td>\n",
       "      <td>0</td>\n",
       "    </tr>\n",
       "  </tbody>\n",
       "</table>\n",
       "</div>"
      ],
      "text/plain": [
       "   id                         user_name  \\\n",
       "0   1  389c669730cb6c54314a46be785cea42   \n",
       "1   2  775baa6d037b6d359b229a656eaeaf08   \n",
       "2   3  b9f3394d2aff86d85974f5040c401f08   \n",
       "3   4  808e278b22ec6b96f2faf7447d10cd8e   \n",
       "4   5  f81bdd6d8be4c5f64bb664214e47aced   \n",
       "\n",
       "                                        post_message timestamp_post  \\\n",
       "0  THĂNG CẤP BẬC HÀM ĐỐI VỚI 2 CÁN BỘ, CHIẾN SỸ H...     1585945439   \n",
       "1                                              <URL>   1588939166.0   \n",
       "2  TƯ VẤN MÙA THI: Cách nộp hồ sơ để trúng tuyển ...     1591405213   \n",
       "3  Cơ quan Cạnh tranh và Thị trường Anh quyết địn...     1592023613   \n",
       "4  Thêm 7 ca tại Quảng Nam liên quan đến hành khá...     1583737358   \n",
       "\n",
       "  num_like_post num_comment_post num_share_post  label  \n",
       "0         19477              378          173.0      0  \n",
       "1            11                5              3      0  \n",
       "2            48                5           19.0      0  \n",
       "3             3                0            0.0      0  \n",
       "4           775                0           54.0      0  "
      ]
     },
     "execution_count": 116,
     "metadata": {},
     "output_type": "execute_result"
    }
   ],
   "source": [
    "# get data\n",
    "df = pd.read_csv('data/public_train.csv')\n",
    "df.head()"
   ]
  },
  {
   "cell_type": "code",
   "execution_count": 121,
   "id": "d1b1fd6a",
   "metadata": {},
   "outputs": [
    {
     "data": {
      "text/plain": [
       "id                    0\n",
       "user_name             0\n",
       "post_message          1\n",
       "timestamp_post      104\n",
       "num_like_post       120\n",
       "num_comment_post     18\n",
       "num_share_post      735\n",
       "label                 0\n",
       "dtype: int64"
      ]
     },
     "execution_count": 121,
     "metadata": {},
     "output_type": "execute_result"
    }
   ],
   "source": [
    "# check null value in data\n",
    "df.isnull().sum()"
   ]
  },
  {
   "cell_type": "code",
   "execution_count": 118,
   "id": "168514b8",
   "metadata": {},
   "outputs": [
    {
     "data": {
      "text/html": [
       "<div>\n",
       "<style scoped>\n",
       "    .dataframe tbody tr th:only-of-type {\n",
       "        vertical-align: middle;\n",
       "    }\n",
       "\n",
       "    .dataframe tbody tr th {\n",
       "        vertical-align: top;\n",
       "    }\n",
       "\n",
       "    .dataframe thead th {\n",
       "        text-align: right;\n",
       "    }\n",
       "</style>\n",
       "<table border=\"1\" class=\"dataframe\">\n",
       "  <thead>\n",
       "    <tr style=\"text-align: right;\">\n",
       "      <th></th>\n",
       "      <th>id</th>\n",
       "      <th>user_name</th>\n",
       "      <th>post_message</th>\n",
       "      <th>timestamp_post</th>\n",
       "      <th>num_like_post</th>\n",
       "      <th>num_comment_post</th>\n",
       "      <th>num_share_post</th>\n",
       "      <th>label</th>\n",
       "    </tr>\n",
       "  </thead>\n",
       "  <tbody>\n",
       "    <tr>\n",
       "      <th>150</th>\n",
       "      <td>151</td>\n",
       "      <td>dd35242704071b7ddf90a8ee90055ec4</td>\n",
       "      <td>&lt;URL&gt;</td>\n",
       "      <td>1588947622.0</td>\n",
       "      <td>87</td>\n",
       "      <td>4</td>\n",
       "      <td>1</td>\n",
       "      <td>0</td>\n",
       "    </tr>\n",
       "    <tr>\n",
       "      <th>175</th>\n",
       "      <td>176</td>\n",
       "      <td>79c2d500763b7f14f2631a8ab6a71ea4</td>\n",
       "      <td>&lt;URL&gt;</td>\n",
       "      <td>1588917759.0</td>\n",
       "      <td>NaN</td>\n",
       "      <td>0</td>\n",
       "      <td>NaN</td>\n",
       "      <td>0</td>\n",
       "    </tr>\n",
       "    <tr>\n",
       "      <th>178</th>\n",
       "      <td>179</td>\n",
       "      <td>59fb67d9b2bd2b380529562035b3bab4</td>\n",
       "      <td>&lt;URL&gt;</td>\n",
       "      <td>1587632107.0</td>\n",
       "      <td>3</td>\n",
       "      <td>2</td>\n",
       "      <td>NaN</td>\n",
       "      <td>0</td>\n",
       "    </tr>\n",
       "    <tr>\n",
       "      <th>197</th>\n",
       "      <td>198</td>\n",
       "      <td>ae7c1d8434b0629a83958eac387e7424</td>\n",
       "      <td>Cơ hội có 1-0-2 để cùng nhau xây dựng những cô...</td>\n",
       "      <td>1584262049</td>\n",
       "      <td>2898</td>\n",
       "      <td>50</td>\n",
       "      <td>142.0</td>\n",
       "      <td>0</td>\n",
       "    </tr>\n",
       "    <tr>\n",
       "      <th>454</th>\n",
       "      <td>455</td>\n",
       "      <td>654d291ef3011072e7980e89293fbdac</td>\n",
       "      <td>&lt;URL&gt;</td>\n",
       "      <td>1592663724.0</td>\n",
       "      <td>4</td>\n",
       "      <td>0</td>\n",
       "      <td>NaN</td>\n",
       "      <td>0</td>\n",
       "    </tr>\n",
       "    <tr>\n",
       "      <th>...</th>\n",
       "      <td>...</td>\n",
       "      <td>...</td>\n",
       "      <td>...</td>\n",
       "      <td>...</td>\n",
       "      <td>...</td>\n",
       "      <td>...</td>\n",
       "      <td>...</td>\n",
       "      <td>...</td>\n",
       "    </tr>\n",
       "    <tr>\n",
       "      <th>4069</th>\n",
       "      <td>4070</td>\n",
       "      <td>849a708a4631a8152557798796b3e09c</td>\n",
       "      <td>&lt;URL&gt;</td>\n",
       "      <td>1591778650.0</td>\n",
       "      <td>3</td>\n",
       "      <td>0</td>\n",
       "      <td>1</td>\n",
       "      <td>0</td>\n",
       "    </tr>\n",
       "    <tr>\n",
       "      <th>4108</th>\n",
       "      <td>4109</td>\n",
       "      <td>40bca5be47ef18a26ce6ec19650e6b69</td>\n",
       "      <td>&lt;URL&gt;</td>\n",
       "      <td>1591921753.0</td>\n",
       "      <td>8</td>\n",
       "      <td>0</td>\n",
       "      <td>NaN</td>\n",
       "      <td>0</td>\n",
       "    </tr>\n",
       "    <tr>\n",
       "      <th>4247</th>\n",
       "      <td>4248</td>\n",
       "      <td>abd4d580d75bbfce0d52e0b963e035aa</td>\n",
       "      <td>[&lt;URL&gt;](&lt;URL&gt;)</td>\n",
       "      <td>1587138493.0</td>\n",
       "      <td>58</td>\n",
       "      <td>9</td>\n",
       "      <td>2</td>\n",
       "      <td>0</td>\n",
       "    </tr>\n",
       "    <tr>\n",
       "      <th>4274</th>\n",
       "      <td>4275</td>\n",
       "      <td>bb1247add19beb5eb972410460a0469c</td>\n",
       "      <td>&lt;URL&gt;</td>\n",
       "      <td>1592462355.0</td>\n",
       "      <td>19</td>\n",
       "      <td>3</td>\n",
       "      <td>2</td>\n",
       "      <td>0</td>\n",
       "    </tr>\n",
       "    <tr>\n",
       "      <th>4326</th>\n",
       "      <td>4327</td>\n",
       "      <td>ace18e4f6c06998dfe27791f94d4226b</td>\n",
       "      <td>&lt;URL&gt;</td>\n",
       "      <td>1593304361.0</td>\n",
       "      <td>9</td>\n",
       "      <td>0</td>\n",
       "      <td>NaN</td>\n",
       "      <td>0</td>\n",
       "    </tr>\n",
       "  </tbody>\n",
       "</table>\n",
       "<p>83 rows × 8 columns</p>\n",
       "</div>"
      ],
      "text/plain": [
       "        id                         user_name  \\\n",
       "150    151  dd35242704071b7ddf90a8ee90055ec4   \n",
       "175    176  79c2d500763b7f14f2631a8ab6a71ea4   \n",
       "178    179  59fb67d9b2bd2b380529562035b3bab4   \n",
       "197    198  ae7c1d8434b0629a83958eac387e7424   \n",
       "454    455  654d291ef3011072e7980e89293fbdac   \n",
       "...    ...                               ...   \n",
       "4069  4070  849a708a4631a8152557798796b3e09c   \n",
       "4108  4109  40bca5be47ef18a26ce6ec19650e6b69   \n",
       "4247  4248  abd4d580d75bbfce0d52e0b963e035aa   \n",
       "4274  4275  bb1247add19beb5eb972410460a0469c   \n",
       "4326  4327  ace18e4f6c06998dfe27791f94d4226b   \n",
       "\n",
       "                                           post_message timestamp_post  \\\n",
       "150                                               <URL>   1588947622.0   \n",
       "175                                               <URL>   1588917759.0   \n",
       "178                                               <URL>   1587632107.0   \n",
       "197   Cơ hội có 1-0-2 để cùng nhau xây dựng những cô...     1584262049   \n",
       "454                                               <URL>   1592663724.0   \n",
       "...                                                 ...            ...   \n",
       "4069                                              <URL>   1591778650.0   \n",
       "4108                                              <URL>   1591921753.0   \n",
       "4247                                     [<URL>](<URL>)   1587138493.0   \n",
       "4274                                              <URL>   1592462355.0   \n",
       "4326                                              <URL>   1593304361.0   \n",
       "\n",
       "     num_like_post num_comment_post num_share_post  label  \n",
       "150             87                4              1      0  \n",
       "175            NaN                0            NaN      0  \n",
       "178              3                2            NaN      0  \n",
       "197           2898               50          142.0      0  \n",
       "454              4                0            NaN      0  \n",
       "...            ...              ...            ...    ...  \n",
       "4069             3                0              1      0  \n",
       "4108             8                0            NaN      0  \n",
       "4247            58                9              2      0  \n",
       "4274            19                3              2      0  \n",
       "4326             9                0            NaN      0  \n",
       "\n",
       "[83 rows x 8 columns]"
      ]
     },
     "execution_count": 118,
     "metadata": {},
     "output_type": "execute_result"
    }
   ],
   "source": [
    "# check duplicate data\n",
    "df[df.duplicated('post_message')]"
   ]
  },
  {
   "cell_type": "code",
   "execution_count": 126,
   "id": "9293050f",
   "metadata": {},
   "outputs": [
    {
     "data": {
      "text/plain": [
       "Timestamp('1970-01-01 00:00:00')"
      ]
     },
     "execution_count": 126,
     "metadata": {},
     "output_type": "execute_result"
    }
   ],
   "source": [
    "pd.Timestamp(0000000000)"
   ]
  },
  {
   "cell_type": "code",
   "execution_count": 120,
   "id": "fa06dcab",
   "metadata": {},
   "outputs": [],
   "source": [
    "# convert unknown record to 0 value\n",
    "df.iloc[:, 4:7] = df.iloc[:, 4:7].replace('unknown', 0)\n",
    "\n",
    "# cast from Dtype object to int64 \n",
    "for i in range(3, 7):\n",
    "  df.iloc[:, i] = pd.to_numeric(df.iloc[:, i], errors='coerce', downcast='integer')\n",
    "  \n",
    "# convert timestamp to date format\n",
    "df['timestamp_post'] = pd.to_datetime(df['timestamp_post'], unit='s', errors='coerce')"
   ]
  },
  {
   "cell_type": "code",
   "execution_count": 128,
   "id": "db24199d",
   "metadata": {},
   "outputs": [],
   "source": [
    "# remove null, duplicate text content record and change dtype of num_like, comment, share feature to int64\n",
    "df = df.dropna(subset=['post_message'])\n",
    "df['timestamp_post'] = df['timestamp_post'].fillna(pd.Timestamp(0000000000)) # empty timestamp\n",
    "df = df.fillna(0)\n",
    "df = df.drop_duplicates(subset='post_message', keep='first')\n",
    "df.iloc[:, 4:7] = df.iloc[:, 4:7].astype('int64')"
   ]
  },
  {
   "cell_type": "code",
   "execution_count": 129,
   "id": "f08a3fb7",
   "metadata": {},
   "outputs": [
    {
     "name": "stdout",
     "output_type": "stream",
     "text": [
      "<class 'pandas.core.frame.DataFrame'>\n",
      "Int64Index: 4288 entries, 0 to 4371\n",
      "Data columns (total 8 columns):\n",
      " #   Column            Non-Null Count  Dtype         \n",
      "---  ------            --------------  -----         \n",
      " 0   id                4288 non-null   int64         \n",
      " 1   user_name         4288 non-null   object        \n",
      " 2   post_message      4288 non-null   object        \n",
      " 3   timestamp_post    4288 non-null   datetime64[ns]\n",
      " 4   num_like_post     4288 non-null   int64         \n",
      " 5   num_comment_post  4288 non-null   int64         \n",
      " 6   num_share_post    4288 non-null   int64         \n",
      " 7   label             4288 non-null   int64         \n",
      "dtypes: datetime64[ns](1), int64(5), object(2)\n",
      "memory usage: 301.5+ KB\n"
     ]
    }
   ],
   "source": [
    "df.info()"
   ]
  },
  {
   "cell_type": "code",
   "execution_count": 130,
   "id": "9a534dbb",
   "metadata": {},
   "outputs": [],
   "source": [
    "# get stopwords list\n",
    "f = open('data/vietnamese-stopwords.txt', 'r', encoding=\"utf8\")\n",
    "stopwords = f.read().split('\\n')"
   ]
  },
  {
   "cell_type": "markdown",
   "id": "97d9f1ea",
   "metadata": {},
   "source": [
    "# TF-IDF features"
   ]
  },
  {
   "cell_type": "code",
   "execution_count": 25,
   "id": "3bdc0e08",
   "metadata": {},
   "outputs": [],
   "source": [
    "from sklearn.feature_extraction.text import TfidfVectorizer\n",
    "from underthesea import word_tokenize\n",
    "from sklearn.decomposition import TruncatedSVD\n",
    "from sklearn.preprocessing import MinMaxScaler\n",
    "import time\n",
    "import string"
   ]
  },
  {
   "cell_type": "code",
   "execution_count": 198,
   "id": "c2e779aa",
   "metadata": {},
   "outputs": [],
   "source": [
    "def tokenize(text):\n",
    "  #text = text.translate(str.maketrans('', '', string.punctuation)) # clean punctuation\n",
    "  text = word_tokenize(text.lower()) #tokenize, word segment\n",
    "  return text"
   ]
  },
  {
   "cell_type": "code",
   "execution_count": 199,
   "id": "8353a7dd",
   "metadata": {},
   "outputs": [
    {
     "name": "stdout",
     "output_type": "stream",
     "text": [
      "62.49423813819885\n"
     ]
    }
   ],
   "source": [
    "start = time.time()\n",
    "\n",
    "# get tfidf vectors with n_grams = 3\n",
    "vectorizer = TfidfVectorizer(tokenizer=tokenize, ngram_range=(1, 3))\n",
    "X_tfidf = vectorizer.fit_transform(df['post_message'])\n",
    "\n",
    "end = time.time()\n",
    "print(end - start)"
   ]
  },
  {
   "cell_type": "code",
   "execution_count": 200,
   "id": "d8797275",
   "metadata": {},
   "outputs": [
    {
     "name": "stdout",
     "output_type": "stream",
     "text": [
      "10.58096981048584\n"
     ]
    }
   ],
   "source": [
    "start = time.time()\n",
    "\n",
    "# reduce dimensionality of tfidf vector to 100 dimensions\n",
    "svd = TruncatedSVD(n_components=100, algorithm='arpack')\n",
    "X_tfidf_svd = svd.fit_transform(X_tfidf)\n",
    "\n",
    "end = time.time()\n",
    "print(end - start)"
   ]
  },
  {
   "cell_type": "code",
   "execution_count": 201,
   "id": "d109af6d",
   "metadata": {},
   "outputs": [],
   "source": [
    "# scale data to (0, 1) range as we've performed dimension reduction\n",
    "scaler1 = MinMaxScaler()\n",
    "X1 = scaler1.fit_transform(X_tfidf_svd)"
   ]
  },
  {
   "cell_type": "markdown",
   "id": "8273821e",
   "metadata": {},
   "source": [
    "# Custom features"
   ]
  },
  {
   "cell_type": "code",
   "execution_count": 132,
   "id": "26579b9d",
   "metadata": {},
   "outputs": [],
   "source": [
    "def extract_feature(data):\n",
    "  \n",
    "  text = data[2] # get text content\n",
    "  \n",
    "  num_punct = len([k for k in word_tokenize(text) if k in string.punctuation])\n",
    "  \n",
    "  num_one, num_two, num_three_gtt, \\\n",
    "  num_numbers, num_stopwords, \\\n",
    "  num_upper, num_any_upper = ([] for i in range(7))\n",
    "  \n",
    "  tokens = word_tokenize(text)\n",
    "  num_distinct = set()\n",
    "  \n",
    "  for token in tokens:\n",
    "    \n",
    "    if len(token.split()) == 1:\n",
    "      num_one.append(token)\n",
    "    elif len(token.split()) == 2:\n",
    "      num_two.append(token)\n",
    "    else:\n",
    "      num_three_gtt.append(token)\n",
    "      \n",
    "    if token.isnumeric(): \n",
    "      num_numbers.append(token)\n",
    "\n",
    "    if token in stopwords:\n",
    "      num_stopwords.append(token)\n",
    "      \n",
    "    if token.isupper():\n",
    "      num_upper.append(token)\n",
    "      \n",
    "    if any(char.isupper() for char in token): \n",
    "      num_any_upper.append(token)\n",
    "      \n",
    "    num_distinct.add(token.lower())\n",
    "  \n",
    "  features = [len(tokens), # number of total word tokens (without punctuation)\n",
    "              len(text), # number of characters \n",
    "              num_punct, # number of punctuation\n",
    "              len(num_one), # number of 1 word tokens\n",
    "              len(num_two), # number of 2 words tokens\n",
    "              len(num_three_gtt), # number of >=3 words tokens\n",
    "              len(num_numbers), # number of token that is numeric\n",
    "              len(num_stopwords), # number of token that is a stopword\n",
    "              len(num_upper), # number of token that is in full CAPITAL\n",
    "              len(num_any_upper), # number of token that contains any CAPITAL character\n",
    "              len(num_distinct), # number of distinct tokens\n",
    "              data[4], # number of likes on post\n",
    "              data[5], # number of comments on post\n",
    "              data[6], # number of shares\n",
    "              data[3].hour,\n",
    "              data[3].day_of_week,\n",
    "              data[3].month,\n",
    "              data[3].day\n",
    "             ]\n",
    "  return features"
   ]
  },
  {
   "cell_type": "code",
   "execution_count": 133,
   "id": "f3eb7f3d",
   "metadata": {},
   "outputs": [
    {
     "name": "stdout",
     "output_type": "stream",
     "text": [
      "367.06741189956665\n"
     ]
    }
   ],
   "source": [
    "start = time.time()\n",
    "\n",
    "# extract custom features, tokenize, clean stopwords, \n",
    "X_cf = np.array([extract_feature(df.iloc[i, :]) for i in range(df.shape[0])])\n",
    "\n",
    "end = time.time()\n",
    "print(end - start)"
   ]
  },
  {
   "cell_type": "code",
   "execution_count": 157,
   "id": "95bde3c4",
   "metadata": {},
   "outputs": [],
   "source": [
    "scaler2 = MinMaxScaler()\n",
    "X2 = scaler2.fit_transform(X_cf)"
   ]
  },
  {
   "cell_type": "markdown",
   "id": "965eac66",
   "metadata": {},
   "source": [
    "# Combine 2 features"
   ]
  },
  {
   "cell_type": "code",
   "execution_count": null,
   "id": "de021d24",
   "metadata": {},
   "outputs": [],
   "source": []
  },
  {
   "cell_type": "code",
   "execution_count": 158,
   "id": "139b0f83",
   "metadata": {},
   "outputs": [
    {
     "data": {
      "text/plain": [
       "(4288, 118)"
      ]
     },
     "execution_count": 158,
     "metadata": {},
     "output_type": "execute_result"
    }
   ],
   "source": [
    "# combine tf-idf and custom features\n",
    "X3 = []\n",
    "for i in range(len(X1)):\n",
    "  X3.append(np.append(X1[i], X2[i]))\n",
    "X3 = np.array(X3)\n",
    "X3.shape"
   ]
  },
  {
   "cell_type": "markdown",
   "id": "321ab68f",
   "metadata": {},
   "source": [
    "# Data preparation"
   ]
  },
  {
   "cell_type": "code",
   "execution_count": 159,
   "id": "54a75003",
   "metadata": {},
   "outputs": [],
   "source": [
    "from sklearn.model_selection import train_test_split"
   ]
  },
  {
   "cell_type": "code",
   "execution_count": 160,
   "id": "b3d44992",
   "metadata": {},
   "outputs": [],
   "source": [
    "y = np.array(df['label'])"
   ]
  },
  {
   "cell_type": "code",
   "execution_count": 161,
   "id": "6ce392a0",
   "metadata": {},
   "outputs": [
    {
     "name": "stdout",
     "output_type": "stream",
     "text": [
      "Tập train: 3430\n",
      "Tập test: 858\n"
     ]
    }
   ],
   "source": [
    "X_train1, X_test1, y_train, y_test = train_test_split(X1, y, test_size=0.2, random_state=42)\n",
    "X_train2, X_test2, y_train, y_test = train_test_split(X2, y, test_size=0.2, random_state=42)\n",
    "X_train3, X_test3, y_train, y_test = train_test_split(X3, y, test_size=0.2, random_state=42)\n",
    "\n",
    "print('Tập train:', len(X_train1))\n",
    "print('Tập test:', len(X_test1))"
   ]
  },
  {
   "cell_type": "markdown",
   "id": "3f9011f7",
   "metadata": {},
   "source": [
    "# Models"
   ]
  },
  {
   "cell_type": "code",
   "execution_count": 162,
   "id": "e4991361",
   "metadata": {},
   "outputs": [],
   "source": [
    "from sklearn.metrics import classification_report, accuracy_score\n",
    "from sklearn.tree import DecisionTreeClassifier\n",
    "from sklearn.linear_model import LogisticRegression\n",
    "from sklearn.neighbors import KNeighborsClassifier\n",
    "from sklearn.naive_bayes import MultinomialNB\n",
    "from sklearn.naive_bayes import GaussianNB\n",
    "from sklearn.ensemble import RandomForestClassifier\n",
    "from sklearn import svm"
   ]
  },
  {
   "cell_type": "code",
   "execution_count": 171,
   "id": "995626c0",
   "metadata": {},
   "outputs": [],
   "source": [
    "def decision_tree(X_train, X_test, y_train):\n",
    "  tree = DecisionTreeClassifier(random_state=0)\n",
    "  tree.fit(X_train, y_train)\n",
    "  y_pred_tree = tree.predict(X_test)\n",
    "  return y_pred_tree\n",
    "\n",
    "def logistic_regression(X_train, X_test, y_train):\n",
    "  clf_lore = LogisticRegression(random_state=0, max_iter=10000)\n",
    "  clf_lore.fit(X_train, y_train)\n",
    "  y_pred_lore = clf_lore.predict(X_test)\n",
    "  return y_pred_lore\n",
    "\n",
    "def knn(X_train, X_test, y_train):\n",
    "  neigh = KNeighborsClassifier(n_neighbors=3)\n",
    "  neigh.fit(X_train, y_train)\n",
    "  y_pred_neigh = neigh.predict(X_test)\n",
    "  return y_pred_neigh\n",
    "\n",
    "def naive_bayes(X_train, X_test, y_train):\n",
    "  nb = GaussianNB()\n",
    "  nb.fit(X_train, y_train)\n",
    "  y_pred_nb = nb.predict(X_test)\n",
    "  return y_pred_nb\n",
    "\n",
    "def svc(X_train, X_test, y_train):\n",
    "  clf_svc = svm.LinearSVC()#kernel='linear')\n",
    "  clf_svc.fit(X_train, y_train)\n",
    "  y_pred_svc = clf_svc.predict(X_test)\n",
    "  return y_pred_svc\n",
    "\n",
    "def random_forest(X_train, X_test, y_train):\n",
    "  clf_rf = RandomForestClassifier(random_state=0)\n",
    "  clf_rf.fit(X_train, y_train)\n",
    "  y_pred_rf = clf_rf.predict(X_test)\n",
    "  return y_pred_rf"
   ]
  },
  {
   "cell_type": "code",
   "execution_count": 172,
   "id": "a57b130b",
   "metadata": {},
   "outputs": [],
   "source": [
    "# tfidf\n",
    "pred_tree1 = decision_tree(X_train1, X_test1, y_train)\n",
    "pred_lore1 = logistic_regression(X_train1, X_test1, y_train)\n",
    "pred_knn1 = knn(X_train1, X_test1, y_train)\n",
    "pred_nb1 = naive_bayes(X_train1, X_test1, y_train)\n",
    "pred_svc1 = svc(X_train1, X_test1, y_train)\n",
    "pred_rf1 = random_forest(X_train1, X_test1, y_train)"
   ]
  },
  {
   "cell_type": "code",
   "execution_count": 173,
   "id": "641ad5b3",
   "metadata": {},
   "outputs": [],
   "source": [
    "# custom features\n",
    "pred_tree2 = decision_tree(X_train2, X_test2, y_train)\n",
    "pred_lore2 = logistic_regression(X_train2, X_test2, y_train)\n",
    "pred_knn2 = knn(X_train2, X_test2, y_train)\n",
    "pred_nb2 = naive_bayes(X_train2, X_test2, y_train)\n",
    "pred_svc2 = svc(X_train2, X_test2, y_train)\n",
    "pred_rf2 = random_forest(X_train2, X_test2, y_train)"
   ]
  },
  {
   "cell_type": "code",
   "execution_count": 174,
   "id": "b2f46c82",
   "metadata": {},
   "outputs": [],
   "source": [
    "# combined features\n",
    "pred_tree3 = decision_tree(X_train3, X_test3, y_train)\n",
    "pred_lore3 = logistic_regression(X_train3, X_test3, y_train)\n",
    "pred_knn3 = knn(X_train3, X_test3, y_train)\n",
    "pred_nb3 = naive_bayes(X_train3, X_test3, y_train)\n",
    "pred_svc3 = svc(X_train3, X_test3, y_train)\n",
    "pred_rf3 = random_forest(X_train3, X_test3, y_train)"
   ]
  },
  {
   "cell_type": "markdown",
   "id": "ce61f747",
   "metadata": {},
   "source": [
    "# Evaluation"
   ]
  },
  {
   "cell_type": "code",
   "execution_count": 175,
   "id": "ccf5edf4",
   "metadata": {},
   "outputs": [],
   "source": [
    "import seaborn as sns\n",
    "import matplotlib.pyplot as plt\n",
    "from sklearn.metrics import roc_auc_score"
   ]
  },
  {
   "cell_type": "code",
   "execution_count": 191,
   "id": "5f49f2c1",
   "metadata": {},
   "outputs": [],
   "source": [
    "def evaluate(pred, true):\n",
    "  #print('-----------------------------------------------------')\n",
    "  acc = accuracy_score(pred, true)\n",
    "  print(classification_report(pred, true), 'Accuracy:', acc)\n",
    "  auc = roc_auc_score(pred, true)\n",
    "  print('AUC:', auc)\n",
    "  print('-----------------------------------------------------')\n",
    "  print()\n",
    "  return acc, auc"
   ]
  },
  {
   "cell_type": "code",
   "execution_count": 192,
   "id": "2fd3dfe3",
   "metadata": {},
   "outputs": [
    {
     "name": "stdout",
     "output_type": "stream",
     "text": [
      "Logistic Regression\n",
      "              precision    recall  f1-score   support\n",
      "\n",
      "           0       0.99      0.84      0.91       832\n",
      "           1       0.13      0.81      0.23        26\n",
      "\n",
      "    accuracy                           0.83       858\n",
      "   macro avg       0.56      0.82      0.57       858\n",
      "weighted avg       0.97      0.83      0.89       858\n",
      " Accuracy: 0.8344988344988346\n",
      "AUC: 0.821514423076923\n",
      "-----------------------------------------------------\n",
      "\n",
      "K-nearest-neighbor\n",
      "              precision    recall  f1-score   support\n",
      "\n",
      "           0       0.94      0.87      0.90       751\n",
      "           1       0.40      0.59      0.48       107\n",
      "\n",
      "    accuracy                           0.84       858\n",
      "   macro avg       0.67      0.73      0.69       858\n",
      "weighted avg       0.87      0.84      0.85       858\n",
      " Accuracy: 0.837995337995338\n",
      "AUC: 0.731143522032928\n",
      "-----------------------------------------------------\n",
      "\n",
      "Gaussian Naive Bayes\n",
      "              precision    recall  f1-score   support\n",
      "\n",
      "           0       0.83      0.90      0.86       650\n",
      "           1       0.57      0.43      0.49       208\n",
      "\n",
      "    accuracy                           0.78       858\n",
      "   macro avg       0.70      0.66      0.68       858\n",
      "weighted avg       0.77      0.78      0.77       858\n",
      " Accuracy: 0.7832167832167832\n",
      "AUC: 0.6640384615384616\n",
      "-----------------------------------------------------\n",
      "\n",
      "Support Vector Machines\n",
      "              precision    recall  f1-score   support\n",
      "\n",
      "           0       0.98      0.86      0.92       801\n",
      "           1       0.29      0.81      0.43        57\n",
      "\n",
      "    accuracy                           0.86       858\n",
      "   macro avg       0.64      0.83      0.67       858\n",
      "weighted avg       0.94      0.86      0.89       858\n",
      " Accuracy: 0.8566433566433567\n",
      "AUC: 0.8335961626913726\n",
      "-----------------------------------------------------\n",
      "\n",
      "Decision Tree\n",
      "              precision    recall  f1-score   support\n",
      "\n",
      "           0       0.86      0.87      0.86       694\n",
      "           1       0.42      0.40      0.41       164\n",
      "\n",
      "    accuracy                           0.78       858\n",
      "   macro avg       0.64      0.63      0.64       858\n",
      "weighted avg       0.78      0.78      0.78       858\n",
      " Accuracy: 0.7785547785547785\n",
      "AUC: 0.6349370914458423\n",
      "-----------------------------------------------------\n",
      "\n",
      "Random Forest\n",
      "              precision    recall  f1-score   support\n",
      "\n",
      "           0       0.99      0.86      0.92       814\n",
      "           1       0.25      0.91      0.40        44\n",
      "\n",
      "    accuracy                           0.86       858\n",
      "   macro avg       0.62      0.88      0.66       858\n",
      "weighted avg       0.96      0.86      0.89       858\n",
      " Accuracy: 0.8578088578088578\n",
      "AUC: 0.882063882063882\n",
      "-----------------------------------------------------\n",
      "\n"
     ]
    }
   ],
   "source": [
    "# evaluation on tfidf features\n",
    "\n",
    "print('Logistic Regression')\n",
    "acc_lore1, auc_lore1 = evaluate(pred_lore1, y_test)\n",
    "\n",
    "print('K-nearest-neighbor')\n",
    "acc_knn1, auc_knn1 = evaluate(pred_knn1, y_test)\n",
    "\n",
    "print('Gaussian Naive Bayes')\n",
    "acc_nb1, auc_nb1 = evaluate(pred_nb1, y_test)\n",
    "\n",
    "print('Support Vector Machines')\n",
    "acc_svc1, auc_svc1 = evaluate(pred_svc1, y_test)\n",
    "\n",
    "print('Decision Tree')\n",
    "acc_tree1, auc_tree1 = evaluate(pred_tree1, y_test)\n",
    "\n",
    "print('Random Forest')\n",
    "acc_rf1, auc_rf1 = evaluate(pred_rf1, y_test)"
   ]
  },
  {
   "cell_type": "code",
   "execution_count": 193,
   "id": "18d42078",
   "metadata": {
    "scrolled": false
   },
   "outputs": [
    {
     "name": "stdout",
     "output_type": "stream",
     "text": [
      "Logistic Regression\n",
      "              precision    recall  f1-score   support\n",
      "\n",
      "           0       1.00      0.82      0.90       857\n",
      "           1       0.00      0.00      0.00         1\n",
      "\n",
      "    accuracy                           0.81       858\n",
      "   macro avg       0.50      0.41      0.45       858\n",
      "weighted avg       1.00      0.81      0.90       858\n",
      " Accuracy: 0.8146853146853147\n",
      "AUC: 0.40781796966161027\n",
      "-----------------------------------------------------\n",
      "\n",
      "K-nearest-neighbor\n",
      "              precision    recall  f1-score   support\n",
      "\n",
      "           0       0.93      0.84      0.88       780\n",
      "           1       0.19      0.38      0.25        78\n",
      "\n",
      "    accuracy                           0.79       858\n",
      "   macro avg       0.56      0.61      0.57       858\n",
      "weighted avg       0.86      0.79      0.82       858\n",
      " Accuracy: 0.7948717948717948\n",
      "AUC: 0.6102564102564103\n",
      "-----------------------------------------------------\n",
      "\n",
      "Gaussian Naive Bayes\n",
      "              precision    recall  f1-score   support\n",
      "\n",
      "           0       0.00      1.00      0.00         1\n",
      "           1       1.00      0.18      0.31       857\n",
      "\n",
      "    accuracy                           0.19       858\n",
      "   macro avg       0.50      0.59      0.16       858\n",
      "weighted avg       1.00      0.19      0.31       858\n",
      " Accuracy: 0.1853146853146853\n",
      "AUC: 0.5921820303383898\n",
      "-----------------------------------------------------\n",
      "\n",
      "Support Vector Machines\n",
      "              precision    recall  f1-score   support\n",
      "\n",
      "           0       0.99      0.82      0.90       853\n",
      "           1       0.01      0.20      0.01         5\n",
      "\n",
      "    accuracy                           0.81       858\n",
      "   macro avg       0.50      0.51      0.45       858\n",
      "weighted avg       0.99      0.81      0.89       858\n",
      " Accuracy: 0.8123543123543123\n",
      "AUC: 0.5079718640093787\n",
      "-----------------------------------------------------\n",
      "\n",
      "Decision Tree\n",
      "              precision    recall  f1-score   support\n",
      "\n",
      "           0       0.88      0.88      0.88       704\n",
      "           1       0.44      0.45      0.45       154\n",
      "\n",
      "    accuracy                           0.80       858\n",
      "   macro avg       0.66      0.66      0.66       858\n",
      "weighted avg       0.80      0.80      0.80       858\n",
      " Accuracy: 0.7995337995337995\n",
      "AUC: 0.6647727272727273\n",
      "-----------------------------------------------------\n",
      "\n",
      "Random Forest\n",
      "              precision    recall  f1-score   support\n",
      "\n",
      "           0       0.98      0.86      0.92       797\n",
      "           1       0.31      0.80      0.45        61\n",
      "\n",
      "    accuracy                           0.86       858\n",
      "   macro avg       0.65      0.83      0.68       858\n",
      "weighted avg       0.94      0.86      0.89       858\n",
      " Accuracy: 0.8589743589743589\n",
      "AUC: 0.8332579138984306\n",
      "-----------------------------------------------------\n",
      "\n"
     ]
    }
   ],
   "source": [
    "# evaluation on custom features\n",
    "\n",
    "print('Logistic Regression')\n",
    "acc_lore2, auc_lore2 = evaluate(pred_lore2, y_test)\n",
    "\n",
    "print('K-nearest-neighbor')\n",
    "acc_knn2, auc_knn2 = evaluate(pred_knn2, y_test)\n",
    "\n",
    "print('Gaussian Naive Bayes')\n",
    "acc_nb2, auc_nb2 = evaluate(pred_nb2, y_test)\n",
    "\n",
    "print('Support Vector Machines')\n",
    "acc_svc2, auc_svc2 = evaluate(pred_svc2, y_test)\n",
    "\n",
    "print('Decision Tree')\n",
    "acc_tree2, auc_tree2 = evaluate(pred_tree2, y_test)\n",
    "\n",
    "print('Random Forest')\n",
    "acc_rf2, auc_rf2 = evaluate(pred_rf2, y_test)"
   ]
  },
  {
   "cell_type": "code",
   "execution_count": 194,
   "id": "e79f8e13",
   "metadata": {},
   "outputs": [
    {
     "name": "stdout",
     "output_type": "stream",
     "text": [
      "Logistic Regression\n",
      "              precision    recall  f1-score   support\n",
      "\n",
      "           0       0.99      0.84      0.91       830\n",
      "           1       0.15      0.82      0.25        28\n",
      "\n",
      "    accuracy                           0.84       858\n",
      "   macro avg       0.57      0.83      0.58       858\n",
      "weighted avg       0.97      0.84      0.89       858\n",
      " Accuracy: 0.8368298368298368\n",
      "AUC: 0.8293889845094664\n",
      "-----------------------------------------------------\n",
      "\n",
      "K-nearest-neighbor\n",
      "              precision    recall  f1-score   support\n",
      "\n",
      "           0       0.95      0.86      0.90       768\n",
      "           1       0.34      0.59      0.43        90\n",
      "\n",
      "    accuracy                           0.83       858\n",
      "   macro avg       0.64      0.73      0.67       858\n",
      "weighted avg       0.88      0.83      0.85       858\n",
      " Accuracy: 0.8344988344988346\n",
      "AUC: 0.7260850694444444\n",
      "-----------------------------------------------------\n",
      "\n",
      "Gaussian Naive Bayes\n",
      "              precision    recall  f1-score   support\n",
      "\n",
      "           0       0.12      0.98      0.22        88\n",
      "           1       0.99      0.20      0.34       770\n",
      "\n",
      "    accuracy                           0.28       858\n",
      "   macro avg       0.56      0.59      0.28       858\n",
      "weighted avg       0.90      0.28      0.32       858\n",
      " Accuracy: 0.28205128205128205\n",
      "AUC: 0.589935064935065\n",
      "-----------------------------------------------------\n",
      "\n",
      "Support Vector Machines\n",
      "              precision    recall  f1-score   support\n",
      "\n",
      "           0       0.98      0.86      0.92       797\n",
      "           1       0.31      0.80      0.45        61\n",
      "\n",
      "    accuracy                           0.86       858\n",
      "   macro avg       0.65      0.83      0.68       858\n",
      "weighted avg       0.94      0.86      0.89       858\n",
      " Accuracy: 0.8589743589743589\n",
      "AUC: 0.8332579138984306\n",
      "-----------------------------------------------------\n",
      "\n",
      "Decision Tree\n",
      "              precision    recall  f1-score   support\n",
      "\n",
      "           0       0.87      0.88      0.87       696\n",
      "           1       0.46      0.44      0.45       162\n",
      "\n",
      "    accuracy                           0.79       858\n",
      "   macro avg       0.66      0.66      0.66       858\n",
      "weighted avg       0.79      0.79      0.79       858\n",
      " Accuracy: 0.7948717948717948\n",
      "AUC: 0.6604406130268199\n",
      "-----------------------------------------------------\n",
      "\n",
      "Random Forest\n",
      "              precision    recall  f1-score   support\n",
      "\n",
      "           0       1.00      0.86      0.92       814\n",
      "           1       0.26      0.93      0.41        44\n",
      "\n",
      "    accuracy                           0.86       858\n",
      "   macro avg       0.63      0.89      0.66       858\n",
      "weighted avg       0.96      0.86      0.89       858\n",
      " Accuracy: 0.8601398601398601\n",
      "AUC: 0.8940417690417689\n",
      "-----------------------------------------------------\n",
      "\n"
     ]
    }
   ],
   "source": [
    "# evaluation on combined features\n",
    "\n",
    "print('Logistic Regression')\n",
    "acc_lore3, auc_lore3 = evaluate(pred_lore3, y_test)\n",
    "\n",
    "print('K-nearest-neighbor')\n",
    "acc_knn3, auc_knn3 = evaluate(pred_knn3, y_test)\n",
    "\n",
    "print('Gaussian Naive Bayes')\n",
    "acc_nb3, auc_nb3 = evaluate(pred_nb3, y_test)\n",
    "\n",
    "print('Support Vector Machines')\n",
    "acc_svc3, auc_svc3 = evaluate(pred_svc3, y_test)\n",
    "\n",
    "print('Decision Tree')\n",
    "acc_tree3, auc_tree3 = evaluate(pred_tree3, y_test)\n",
    "\n",
    "print('Random Forest')\n",
    "acc_rf3, auc_rf3 = evaluate(pred_rf3, y_test)"
   ]
  },
  {
   "cell_type": "code",
   "execution_count": 195,
   "id": "39624bd8",
   "metadata": {},
   "outputs": [
    {
     "name": "stdout",
     "output_type": "stream",
     "text": [
      "Accuracy\n"
     ]
    },
    {
     "data": {
      "text/html": [
       "<div>\n",
       "<style scoped>\n",
       "    .dataframe tbody tr th:only-of-type {\n",
       "        vertical-align: middle;\n",
       "    }\n",
       "\n",
       "    .dataframe tbody tr th {\n",
       "        vertical-align: top;\n",
       "    }\n",
       "\n",
       "    .dataframe thead th {\n",
       "        text-align: right;\n",
       "    }\n",
       "</style>\n",
       "<table border=\"1\" class=\"dataframe\">\n",
       "  <thead>\n",
       "    <tr style=\"text-align: right;\">\n",
       "      <th></th>\n",
       "      <th>TF-IDF</th>\n",
       "      <th>Custom</th>\n",
       "      <th>Combined</th>\n",
       "    </tr>\n",
       "  </thead>\n",
       "  <tbody>\n",
       "    <tr>\n",
       "      <th>Logistic Regression</th>\n",
       "      <td>0.834499</td>\n",
       "      <td>0.814685</td>\n",
       "      <td>0.836830</td>\n",
       "    </tr>\n",
       "    <tr>\n",
       "      <th>KNeighbors</th>\n",
       "      <td>0.837995</td>\n",
       "      <td>0.794872</td>\n",
       "      <td>0.834499</td>\n",
       "    </tr>\n",
       "    <tr>\n",
       "      <th>Naive Bayes</th>\n",
       "      <td>0.783217</td>\n",
       "      <td>0.185315</td>\n",
       "      <td>0.282051</td>\n",
       "    </tr>\n",
       "    <tr>\n",
       "      <th>SVM</th>\n",
       "      <td>0.856643</td>\n",
       "      <td>0.812354</td>\n",
       "      <td>0.858974</td>\n",
       "    </tr>\n",
       "    <tr>\n",
       "      <th>Decision Tree</th>\n",
       "      <td>0.778555</td>\n",
       "      <td>0.799534</td>\n",
       "      <td>0.794872</td>\n",
       "    </tr>\n",
       "    <tr>\n",
       "      <th>Random Forest</th>\n",
       "      <td>0.857809</td>\n",
       "      <td>0.858974</td>\n",
       "      <td>0.860140</td>\n",
       "    </tr>\n",
       "  </tbody>\n",
       "</table>\n",
       "</div>"
      ],
      "text/plain": [
       "                       TF-IDF    Custom  Combined\n",
       "Logistic Regression  0.834499  0.814685  0.836830\n",
       "KNeighbors           0.837995  0.794872  0.834499\n",
       "Naive Bayes          0.783217  0.185315  0.282051\n",
       "SVM                  0.856643  0.812354  0.858974\n",
       "Decision Tree        0.778555  0.799534  0.794872\n",
       "Random Forest        0.857809  0.858974  0.860140"
      ]
     },
     "execution_count": 195,
     "metadata": {},
     "output_type": "execute_result"
    }
   ],
   "source": [
    "print('Accuracy')\n",
    "models = ['Logistic Regression', 'KNeighbors', 'Naive Bayes', 'SVM', 'Decision Tree', 'Random Forest']\n",
    "acc1 = [acc_lore1, acc_knn1, acc_nb1, acc_svc1, acc_tree1, acc_rf1]\n",
    "acc2 = [acc_lore2, acc_knn2, acc_nb2, acc_svc2, acc_tree2, acc_rf2]\n",
    "acc3 = [acc_lore3, acc_knn3, acc_nb3, acc_svc3, acc_tree3, acc_rf3]\n",
    "\n",
    "acc_df = pd.DataFrame([acc1, acc2, acc3], columns=models, index=['TF-IDF', 'Custom', 'Combined'])\n",
    "acc_df.T"
   ]
  },
  {
   "cell_type": "code",
   "execution_count": 196,
   "id": "0197c85d",
   "metadata": {},
   "outputs": [
    {
     "data": {
      "text/html": [
       "<div>\n",
       "<style scoped>\n",
       "    .dataframe tbody tr th:only-of-type {\n",
       "        vertical-align: middle;\n",
       "    }\n",
       "\n",
       "    .dataframe tbody tr th {\n",
       "        vertical-align: top;\n",
       "    }\n",
       "\n",
       "    .dataframe thead th {\n",
       "        text-align: right;\n",
       "    }\n",
       "</style>\n",
       "<table border=\"1\" class=\"dataframe\">\n",
       "  <thead>\n",
       "    <tr style=\"text-align: right;\">\n",
       "      <th></th>\n",
       "      <th>TF-IDF</th>\n",
       "      <th>Custom</th>\n",
       "      <th>Combined</th>\n",
       "    </tr>\n",
       "  </thead>\n",
       "  <tbody>\n",
       "    <tr>\n",
       "      <th>Logistic Regression</th>\n",
       "      <td>0.821514</td>\n",
       "      <td>0.407818</td>\n",
       "      <td>0.829389</td>\n",
       "    </tr>\n",
       "    <tr>\n",
       "      <th>KNeighbors</th>\n",
       "      <td>0.731144</td>\n",
       "      <td>0.610256</td>\n",
       "      <td>0.726085</td>\n",
       "    </tr>\n",
       "    <tr>\n",
       "      <th>Naive Bayes</th>\n",
       "      <td>0.664038</td>\n",
       "      <td>0.592182</td>\n",
       "      <td>0.589935</td>\n",
       "    </tr>\n",
       "    <tr>\n",
       "      <th>SVM</th>\n",
       "      <td>0.833596</td>\n",
       "      <td>0.507972</td>\n",
       "      <td>0.833258</td>\n",
       "    </tr>\n",
       "    <tr>\n",
       "      <th>Decision Tree</th>\n",
       "      <td>0.634937</td>\n",
       "      <td>0.664773</td>\n",
       "      <td>0.660441</td>\n",
       "    </tr>\n",
       "    <tr>\n",
       "      <th>Random Forest</th>\n",
       "      <td>0.882064</td>\n",
       "      <td>0.833258</td>\n",
       "      <td>0.894042</td>\n",
       "    </tr>\n",
       "  </tbody>\n",
       "</table>\n",
       "</div>"
      ],
      "text/plain": [
       "                       TF-IDF    Custom  Combined\n",
       "Logistic Regression  0.821514  0.407818  0.829389\n",
       "KNeighbors           0.731144  0.610256  0.726085\n",
       "Naive Bayes          0.664038  0.592182  0.589935\n",
       "SVM                  0.833596  0.507972  0.833258\n",
       "Decision Tree        0.634937  0.664773  0.660441\n",
       "Random Forest        0.882064  0.833258  0.894042"
      ]
     },
     "execution_count": 196,
     "metadata": {},
     "output_type": "execute_result"
    }
   ],
   "source": [
    "models = ['Logistic Regression', 'KNeighbors', 'Naive Bayes', 'SVM', 'Decision Tree', 'Random Forest']\n",
    "auc1 = [auc_lore1, auc_knn1, auc_nb1, auc_svc1, auc_tree1, auc_rf1]\n",
    "auc2 = [auc_lore2, auc_knn2, auc_nb2, auc_svc2, auc_tree2, auc_rf2]\n",
    "auc3 = [auc_lore3, auc_knn3, auc_nb3, auc_svc3, auc_tree3, auc_rf3]\n",
    "\n",
    "auc_df = pd.DataFrame([auc1, auc2, auc3], columns=models, index=['TF-IDF', 'Custom', 'Combined'])\n",
    "auc_df.T"
   ]
  },
  {
   "cell_type": "code",
   "execution_count": 197,
   "id": "be7bc2c2",
   "metadata": {},
   "outputs": [
    {
     "data": {
      "text/plain": [
       "<AxesSubplot:>"
      ]
     },
     "execution_count": 197,
     "metadata": {},
     "output_type": "execute_result"
    },
    {
     "data": {
      "text/plain": [
       "<Figure size 720x360 with 0 Axes>"
      ]
     },
     "metadata": {},
     "output_type": "display_data"
    },
    {
     "data": {
      "image/png": "[encoded data removed]",
      "text/plain": [
       "<Figure size 720x360 with 1 Axes>"
      ]
     },
     "metadata": {
      "needs_background": "light"
     },
     "output_type": "display_data"
    }
   ],
   "source": [
    "plt.figure(figsize=(10, 5))\n",
    "\n",
    "acc_df.T.plot(kind='bar', figsize=(10, 5))"
   ]
  },
  {
   "cell_type": "code",
   "execution_count": null,
   "id": "dc33b741",
   "metadata": {},
   "outputs": [],
   "source": []
  }
 ],
 "metadata": {
  "kernelspec": {
   "display_name": "Python 3 (ipykernel)",
   "language": "python",
   "name": "python3"
  },
  "language_info": {
   "codemirror_mode": {
    "name": "ipython",
    "version": 3
   },
   "file_extension": ".py",
   "mimetype": "text/x-python",
   "name": "python",
   "nbconvert_exporter": "python",
   "pygments_lexer": "ipython3",
   "version": "3.9.7"
  },
  "varInspector": {
   "cols": {
    "lenName": 16,
    "lenType": 16,
    "lenVar": 40
   },
   "kernels_config": {
    "python": {
     "delete_cmd_postfix": "",
     "delete_cmd_prefix": "del ",
     "library": "var_list.py",
     "varRefreshCmd": "print(var_dic_list())"
    },
    "r": {
     "delete_cmd_postfix": ") ",
     "delete_cmd_prefix": "rm(",
     "library": "var_list.r",
     "varRefreshCmd": "cat(var_dic_list()) "
    }
   },
   "types_to_exclude": [
    "module",
    "function",
    "builtin_function_or_method",
    "instance",
    "_Feature"
   ],
   "window_display": false
  }
 },
 "nbformat": 4,
 "nbformat_minor": 5
}
