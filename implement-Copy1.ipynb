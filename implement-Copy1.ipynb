{
 "cells": [
  {
   "cell_type": "markdown",
   "metadata": {},
   "source": [
    "# Data collection"
   ]
  },
  {
   "cell_type": "code",
   "execution_count": 2,
   "metadata": {},
   "outputs": [],
   "source": [
    "import numpy as np\n",
    "import pandas as pd"
   ]
  },
  {
   "cell_type": "code",
   "execution_count": 3,
   "metadata": {},
   "outputs": [
    {
     "data": {
      "text/html": [
       "<div>\n",
       "<style scoped>\n",
       "    .dataframe tbody tr th:only-of-type {\n",
       "        vertical-align: middle;\n",
       "    }\n",
       "\n",
       "    .dataframe tbody tr th {\n",
       "        vertical-align: top;\n",
       "    }\n",
       "\n",
       "    .dataframe thead th {\n",
       "        text-align: right;\n",
       "    }\n",
       "</style>\n",
       "<table border=\"1\" class=\"dataframe\">\n",
       "  <thead>\n",
       "    <tr style=\"text-align: right;\">\n",
       "      <th></th>\n",
       "      <th>id</th>\n",
       "      <th>user_name</th>\n",
       "      <th>post_message</th>\n",
       "      <th>timestamp_post</th>\n",
       "      <th>num_like_post</th>\n",
       "      <th>num_comment_post</th>\n",
       "      <th>num_share_post</th>\n",
       "      <th>label</th>\n",
       "    </tr>\n",
       "  </thead>\n",
       "  <tbody>\n",
       "    <tr>\n",
       "      <th>0</th>\n",
       "      <td>1</td>\n",
       "      <td>389c669730cb6c54314a46be785cea42</td>\n",
       "      <td>THĂNG CẤP BẬC HÀM ĐỐI VỚI 2 CÁN BỘ, CHIẾN SỸ H...</td>\n",
       "      <td>1585945439</td>\n",
       "      <td>19477</td>\n",
       "      <td>378</td>\n",
       "      <td>173.0</td>\n",
       "      <td>0</td>\n",
       "    </tr>\n",
       "    <tr>\n",
       "      <th>1</th>\n",
       "      <td>2</td>\n",
       "      <td>775baa6d037b6d359b229a656eaeaf08</td>\n",
       "      <td>&lt;URL&gt;</td>\n",
       "      <td>1588939166.0</td>\n",
       "      <td>11</td>\n",
       "      <td>5</td>\n",
       "      <td>3</td>\n",
       "      <td>0</td>\n",
       "    </tr>\n",
       "    <tr>\n",
       "      <th>2</th>\n",
       "      <td>3</td>\n",
       "      <td>b9f3394d2aff86d85974f5040c401f08</td>\n",
       "      <td>TƯ VẤN MÙA THI: Cách nộp hồ sơ để trúng tuyển ...</td>\n",
       "      <td>1591405213</td>\n",
       "      <td>48</td>\n",
       "      <td>5</td>\n",
       "      <td>19.0</td>\n",
       "      <td>0</td>\n",
       "    </tr>\n",
       "    <tr>\n",
       "      <th>3</th>\n",
       "      <td>4</td>\n",
       "      <td>808e278b22ec6b96f2faf7447d10cd8e</td>\n",
       "      <td>Cơ quan Cạnh tranh và Thị trường Anh quyết địn...</td>\n",
       "      <td>1592023613</td>\n",
       "      <td>3</td>\n",
       "      <td>0</td>\n",
       "      <td>0.0</td>\n",
       "      <td>0</td>\n",
       "    </tr>\n",
       "    <tr>\n",
       "      <th>4</th>\n",
       "      <td>5</td>\n",
       "      <td>f81bdd6d8be4c5f64bb664214e47aced</td>\n",
       "      <td>Thêm 7 ca tại Quảng Nam liên quan đến hành khá...</td>\n",
       "      <td>1583737358</td>\n",
       "      <td>775</td>\n",
       "      <td>0</td>\n",
       "      <td>54.0</td>\n",
       "      <td>0</td>\n",
       "    </tr>\n",
       "  </tbody>\n",
       "</table>\n",
       "</div>"
      ],
      "text/plain": [
       "   id                         user_name  \\\n",
       "0   1  389c669730cb6c54314a46be785cea42   \n",
       "1   2  775baa6d037b6d359b229a656eaeaf08   \n",
       "2   3  b9f3394d2aff86d85974f5040c401f08   \n",
       "3   4  808e278b22ec6b96f2faf7447d10cd8e   \n",
       "4   5  f81bdd6d8be4c5f64bb664214e47aced   \n",
       "\n",
       "                                        post_message timestamp_post  \\\n",
       "0  THĂNG CẤP BẬC HÀM ĐỐI VỚI 2 CÁN BỘ, CHIẾN SỸ H...     1585945439   \n",
       "1                                              <URL>   1588939166.0   \n",
       "2  TƯ VẤN MÙA THI: Cách nộp hồ sơ để trúng tuyển ...     1591405213   \n",
       "3  Cơ quan Cạnh tranh và Thị trường Anh quyết địn...     1592023613   \n",
       "4  Thêm 7 ca tại Quảng Nam liên quan đến hành khá...     1583737358   \n",
       "\n",
       "  num_like_post num_comment_post num_share_post  label  \n",
       "0         19477              378          173.0      0  \n",
       "1            11                5              3      0  \n",
       "2            48                5           19.0      0  \n",
       "3             3                0            0.0      0  \n",
       "4           775                0           54.0      0  "
      ]
     },
     "execution_count": 3,
     "metadata": {},
     "output_type": "execute_result"
    }
   ],
   "source": [
    "# get data\n",
    "df = pd.read_csv('data/public_train.csv')\n",
    "df.head()"
   ]
  },
  {
   "cell_type": "code",
   "execution_count": 4,
   "metadata": {},
   "outputs": [
    {
     "data": {
      "text/plain": [
       "id                    0\n",
       "user_name             0\n",
       "post_message          1\n",
       "timestamp_post       96\n",
       "num_like_post       115\n",
       "num_comment_post     10\n",
       "num_share_post      725\n",
       "label                 0\n",
       "dtype: int64"
      ]
     },
     "execution_count": 4,
     "metadata": {},
     "output_type": "execute_result"
    }
   ],
   "source": [
    "# check null value in data\n",
    "df.isnull().sum()"
   ]
  },
  {
   "cell_type": "code",
   "execution_count": 5,
   "metadata": {},
   "outputs": [
    {
     "data": {
      "text/html": [
       "<div>\n",
       "<style scoped>\n",
       "    .dataframe tbody tr th:only-of-type {\n",
       "        vertical-align: middle;\n",
       "    }\n",
       "\n",
       "    .dataframe tbody tr th {\n",
       "        vertical-align: top;\n",
       "    }\n",
       "\n",
       "    .dataframe thead th {\n",
       "        text-align: right;\n",
       "    }\n",
       "</style>\n",
       "<table border=\"1\" class=\"dataframe\">\n",
       "  <thead>\n",
       "    <tr style=\"text-align: right;\">\n",
       "      <th></th>\n",
       "      <th>id</th>\n",
       "      <th>user_name</th>\n",
       "      <th>post_message</th>\n",
       "      <th>timestamp_post</th>\n",
       "      <th>num_like_post</th>\n",
       "      <th>num_comment_post</th>\n",
       "      <th>num_share_post</th>\n",
       "      <th>label</th>\n",
       "    </tr>\n",
       "  </thead>\n",
       "  <tbody>\n",
       "    <tr>\n",
       "      <th>150</th>\n",
       "      <td>151</td>\n",
       "      <td>dd35242704071b7ddf90a8ee90055ec4</td>\n",
       "      <td>&lt;URL&gt;</td>\n",
       "      <td>1588947622.0</td>\n",
       "      <td>87</td>\n",
       "      <td>4</td>\n",
       "      <td>1</td>\n",
       "      <td>0</td>\n",
       "    </tr>\n",
       "    <tr>\n",
       "      <th>175</th>\n",
       "      <td>176</td>\n",
       "      <td>79c2d500763b7f14f2631a8ab6a71ea4</td>\n",
       "      <td>&lt;URL&gt;</td>\n",
       "      <td>1588917759.0</td>\n",
       "      <td>NaN</td>\n",
       "      <td>0</td>\n",
       "      <td>NaN</td>\n",
       "      <td>0</td>\n",
       "    </tr>\n",
       "    <tr>\n",
       "      <th>178</th>\n",
       "      <td>179</td>\n",
       "      <td>59fb67d9b2bd2b380529562035b3bab4</td>\n",
       "      <td>&lt;URL&gt;</td>\n",
       "      <td>1587632107.0</td>\n",
       "      <td>3</td>\n",
       "      <td>2</td>\n",
       "      <td>NaN</td>\n",
       "      <td>0</td>\n",
       "    </tr>\n",
       "    <tr>\n",
       "      <th>197</th>\n",
       "      <td>198</td>\n",
       "      <td>ae7c1d8434b0629a83958eac387e7424</td>\n",
       "      <td>Cơ hội có 1-0-2 để cùng nhau xây dựng những cô...</td>\n",
       "      <td>1584262049</td>\n",
       "      <td>2898</td>\n",
       "      <td>50</td>\n",
       "      <td>142.0</td>\n",
       "      <td>0</td>\n",
       "    </tr>\n",
       "    <tr>\n",
       "      <th>454</th>\n",
       "      <td>455</td>\n",
       "      <td>654d291ef3011072e7980e89293fbdac</td>\n",
       "      <td>&lt;URL&gt;</td>\n",
       "      <td>1592663724.0</td>\n",
       "      <td>4</td>\n",
       "      <td>0</td>\n",
       "      <td>NaN</td>\n",
       "      <td>0</td>\n",
       "    </tr>\n",
       "    <tr>\n",
       "      <th>...</th>\n",
       "      <td>...</td>\n",
       "      <td>...</td>\n",
       "      <td>...</td>\n",
       "      <td>...</td>\n",
       "      <td>...</td>\n",
       "      <td>...</td>\n",
       "      <td>...</td>\n",
       "      <td>...</td>\n",
       "    </tr>\n",
       "    <tr>\n",
       "      <th>4069</th>\n",
       "      <td>4070</td>\n",
       "      <td>849a708a4631a8152557798796b3e09c</td>\n",
       "      <td>&lt;URL&gt;</td>\n",
       "      <td>1591778650.0</td>\n",
       "      <td>3</td>\n",
       "      <td>0</td>\n",
       "      <td>1</td>\n",
       "      <td>0</td>\n",
       "    </tr>\n",
       "    <tr>\n",
       "      <th>4108</th>\n",
       "      <td>4109</td>\n",
       "      <td>40bca5be47ef18a26ce6ec19650e6b69</td>\n",
       "      <td>&lt;URL&gt;</td>\n",
       "      <td>1591921753.0</td>\n",
       "      <td>8</td>\n",
       "      <td>0</td>\n",
       "      <td>NaN</td>\n",
       "      <td>0</td>\n",
       "    </tr>\n",
       "    <tr>\n",
       "      <th>4247</th>\n",
       "      <td>4248</td>\n",
       "      <td>abd4d580d75bbfce0d52e0b963e035aa</td>\n",
       "      <td>[&lt;URL&gt;](&lt;URL&gt;)</td>\n",
       "      <td>1587138493.0</td>\n",
       "      <td>58</td>\n",
       "      <td>9</td>\n",
       "      <td>2</td>\n",
       "      <td>0</td>\n",
       "    </tr>\n",
       "    <tr>\n",
       "      <th>4274</th>\n",
       "      <td>4275</td>\n",
       "      <td>bb1247add19beb5eb972410460a0469c</td>\n",
       "      <td>&lt;URL&gt;</td>\n",
       "      <td>1592462355.0</td>\n",
       "      <td>19</td>\n",
       "      <td>3</td>\n",
       "      <td>2</td>\n",
       "      <td>0</td>\n",
       "    </tr>\n",
       "    <tr>\n",
       "      <th>4326</th>\n",
       "      <td>4327</td>\n",
       "      <td>ace18e4f6c06998dfe27791f94d4226b</td>\n",
       "      <td>&lt;URL&gt;</td>\n",
       "      <td>1593304361.0</td>\n",
       "      <td>9</td>\n",
       "      <td>0</td>\n",
       "      <td>NaN</td>\n",
       "      <td>0</td>\n",
       "    </tr>\n",
       "  </tbody>\n",
       "</table>\n",
       "<p>83 rows × 8 columns</p>\n",
       "</div>"
      ],
      "text/plain": [
       "        id                         user_name  \\\n",
       "150    151  dd35242704071b7ddf90a8ee90055ec4   \n",
       "175    176  79c2d500763b7f14f2631a8ab6a71ea4   \n",
       "178    179  59fb67d9b2bd2b380529562035b3bab4   \n",
       "197    198  ae7c1d8434b0629a83958eac387e7424   \n",
       "454    455  654d291ef3011072e7980e89293fbdac   \n",
       "...    ...                               ...   \n",
       "4069  4070  849a708a4631a8152557798796b3e09c   \n",
       "4108  4109  40bca5be47ef18a26ce6ec19650e6b69   \n",
       "4247  4248  abd4d580d75bbfce0d52e0b963e035aa   \n",
       "4274  4275  bb1247add19beb5eb972410460a0469c   \n",
       "4326  4327  ace18e4f6c06998dfe27791f94d4226b   \n",
       "\n",
       "                                           post_message timestamp_post  \\\n",
       "150                                               <URL>   1588947622.0   \n",
       "175                                               <URL>   1588917759.0   \n",
       "178                                               <URL>   1587632107.0   \n",
       "197   Cơ hội có 1-0-2 để cùng nhau xây dựng những cô...     1584262049   \n",
       "454                                               <URL>   1592663724.0   \n",
       "...                                                 ...            ...   \n",
       "4069                                              <URL>   1591778650.0   \n",
       "4108                                              <URL>   1591921753.0   \n",
       "4247                                     [<URL>](<URL>)   1587138493.0   \n",
       "4274                                              <URL>   1592462355.0   \n",
       "4326                                              <URL>   1593304361.0   \n",
       "\n",
       "     num_like_post num_comment_post num_share_post  label  \n",
       "150             87                4              1      0  \n",
       "175            NaN                0            NaN      0  \n",
       "178              3                2            NaN      0  \n",
       "197           2898               50          142.0      0  \n",
       "454              4                0            NaN      0  \n",
       "...            ...              ...            ...    ...  \n",
       "4069             3                0              1      0  \n",
       "4108             8                0            NaN      0  \n",
       "4247            58                9              2      0  \n",
       "4274            19                3              2      0  \n",
       "4326             9                0            NaN      0  \n",
       "\n",
       "[83 rows x 8 columns]"
      ]
     },
     "execution_count": 5,
     "metadata": {},
     "output_type": "execute_result"
    }
   ],
   "source": [
    "# check duplicate data\n",
    "df[df.duplicated('post_message')]"
   ]
  },
  {
   "cell_type": "code",
   "execution_count": 6,
   "metadata": {},
   "outputs": [
    {
     "data": {
      "text/plain": [
       "Timestamp('1970-01-01 00:00:00')"
      ]
     },
     "execution_count": 6,
     "metadata": {},
     "output_type": "execute_result"
    }
   ],
   "source": [
    "pd.Timestamp(0000000000)"
   ]
  },
  {
   "cell_type": "code",
   "execution_count": 7,
   "metadata": {},
   "outputs": [],
   "source": [
    "# convert unknown record to 0 value\n",
    "df.iloc[:, 4:7] = df.iloc[:, 4:7].replace('unknown', 0)\n",
    "\n",
    "# cast from Dtype object to int64 \n",
    "for i in range(3, 7):\n",
    "  df.iloc[:, i] = pd.to_numeric(df.iloc[:, i], errors='coerce', downcast='integer')\n",
    "  \n",
    "# convert timestamp to date format\n",
    "df['timestamp_post'] = pd.to_datetime(df['timestamp_post'], unit='s', errors='coerce')"
   ]
  },
  {
   "cell_type": "code",
   "execution_count": 8,
   "metadata": {},
   "outputs": [],
   "source": [
    "# remove null, duplicate text content record and change dtype of num_like, comment, share feature to int64\n",
    "df = df.dropna(subset=['post_message'])\n",
    "df['timestamp_post'] = df['timestamp_post'].fillna(pd.Timestamp(0000000000)) # empty timestamp\n",
    "df = df.fillna(0)\n",
    "df = df.drop_duplicates(subset='post_message', keep='first')\n",
    "df.iloc[:, 4:7] = df.iloc[:, 4:7].astype('int64')"
   ]
  },
  {
   "cell_type": "code",
   "execution_count": 9,
   "metadata": {},
   "outputs": [
    {
     "name": "stdout",
     "output_type": "stream",
     "text": [
      "<class 'pandas.core.frame.DataFrame'>\n",
      "Int64Index: 4288 entries, 0 to 4371\n",
      "Data columns (total 8 columns):\n",
      " #   Column            Non-Null Count  Dtype         \n",
      "---  ------            --------------  -----         \n",
      " 0   id                4288 non-null   int64         \n",
      " 1   user_name         4288 non-null   object        \n",
      " 2   post_message      4288 non-null   object        \n",
      " 3   timestamp_post    4288 non-null   datetime64[ns]\n",
      " 4   num_like_post     4288 non-null   int64         \n",
      " 5   num_comment_post  4288 non-null   int64         \n",
      " 6   num_share_post    4288 non-null   int64         \n",
      " 7   label             4288 non-null   int64         \n",
      "dtypes: datetime64[ns](1), int64(5), object(2)\n",
      "memory usage: 301.5+ KB\n"
     ]
    }
   ],
   "source": [
    "df.info()"
   ]
  },
  {
   "cell_type": "markdown",
   "metadata": {},
   "source": [
    "# Visualization"
   ]
  },
  {
   "cell_type": "code",
   "execution_count": 52,
   "metadata": {},
   "outputs": [
    {
     "data": {
      "text/html": [
       "        <script type=\"text/javascript\">\n",
       "        window.PlotlyConfig = {MathJaxConfig: 'local'};\n",
       "        if (window.MathJax) {MathJax.Hub.Config({SVG: {font: \"STIX-Web\"}});}\n",
       "        if (typeof require !== 'undefined') {\n",
       "        require.undef(\"plotly\");\n",
       "        requirejs.config({\n",
       "            paths: {\n",
       "                'plotly': ['https://cdn.plot.ly/plotly-latest.min']\n",
       "            }\n",
       "        });\n",
       "        require(['plotly'], function(Plotly) {\n",
       "            window._Plotly = Plotly;\n",
       "        });\n",
       "        }\n",
       "        </script>\n",
       "        "
      ]
     },
     "metadata": {},
     "output_type": "display_data"
    },
    {
     "data": {
      "text/html": [
       "        <script type=\"text/javascript\">\n",
       "        window.PlotlyConfig = {MathJaxConfig: 'local'};\n",
       "        if (window.MathJax) {MathJax.Hub.Config({SVG: {font: \"STIX-Web\"}});}\n",
       "        if (typeof require !== 'undefined') {\n",
       "        require.undef(\"plotly\");\n",
       "        requirejs.config({\n",
       "            paths: {\n",
       "                'plotly': ['https://cdn.plot.ly/plotly-latest.min']\n",
       "            }\n",
       "        });\n",
       "        require(['plotly'], function(Plotly) {\n",
       "            window._Plotly = Plotly;\n",
       "        });\n",
       "        }\n",
       "        </script>\n",
       "        "
      ]
     },
     "metadata": {},
     "output_type": "display_data"
    }
   ],
   "source": [
    "import seaborn as sns\n",
    "import matplotlib.pyplot as plt\n",
    "# run this again if iplot doesn't display\n",
    "import plotly\n",
    "import cufflinks as cf\n",
    "from plotly.offline import download_plotlyjs, init_notebook_mode, plot, iplot\n",
    "init_notebook_mode(connected=True)\n",
    "cf.go_offline()"
   ]
  },
  {
   "cell_type": "code",
   "execution_count": 55,
   "metadata": {},
   "outputs": [
    {
     "name": "stdout",
     "output_type": "stream",
     "text": [
      "Số lượng tin trong dữ liệu: 4288 \n",
      "\n",
      "label\n",
      "0    3567\n",
      "1     721\n",
      "dtype: int64 \n",
      "\n"
     ]
    },
    {
     "data": {
      "image/png": "[encoded data removed]",
      "text/plain": [
       "<Figure size 432x432 with 1 Axes>"
      ]
     },
     "metadata": {},
     "output_type": "display_data"
    }
   ],
   "source": [
    "# Count of each label\n",
    "label_count = df.value_counts('label')\n",
    "\n",
    "sns.set_theme(style=\"whitegrid\")\n",
    "plt.figure(figsize=(6, 6))\n",
    "sns.barplot(x=['Thật', 'Giả'], y=label_count, palette=['b', 'r'])\n",
    "plt.xlabel('Nhãn')\n",
    "plt.ylabel('Số lượng')\n",
    "plt.title('Biểu đồ số lượng nhãn tin giả và tin thật', y=1.02) # y = space from graph\n",
    "print('Số lượng tin trong dữ liệu:', len(df['label']), '\\n')\n",
    "print(label_count, '\\n')"
   ]
  },
  {
   "cell_type": "code",
   "execution_count": 53,
   "metadata": {},
   "outputs": [
    {
     "data": {
      "text/plain": [
       "Text(0.5, 1.0, 'Biểu đồ số lượng từ trong tin thật và giả')"
      ]
     },
     "execution_count": 53,
     "metadata": {},
     "output_type": "execute_result"
    },
    {
     "data": {
      "image/png": "[encoded data removed]",
      "text/plain": [
       "<Figure size 1080x504 with 1 Axes>"
      ]
     },
     "metadata": {},
     "output_type": "display_data"
    }
   ],
   "source": [
    "# for graphing\n",
    "len_true = [len(n.split()) for n in df[df['label'] == 0]['post_message']]\n",
    "len_fake = [len(n.split()) for n in df[df['label'] == 1]['post_message']]\n",
    "\n",
    "# Number of words distribution in fake and true news\n",
    "plt.figure(figsize=(15, 7))\n",
    "sns.histplot(data=len_true, bins=50, color='b')\n",
    "sns.histplot(data=len_fake, bins=50, color='r')\n",
    "# plt.xticks(ticks=range(0, 2000, 100))\n",
    "plt.xlabel('Số lượng từ')\n",
    "plt.ylabel('Số lượng tin')\n",
    "plt.legend(labels=[\"Thật\", \"Giả\"])\n",
    "plt.title('Biểu đồ số lượng từ trong tin thật và giả')"
   ]
  },
  {
   "cell_type": "code",
   "execution_count": 68,
   "metadata": {},
   "outputs": [
    {
     "data": {
      "text/plain": [
       "Text(0.5, 1.0, 'Biểu đồ số lượng like trong tin thật và giả')"
      ]
     },
     "execution_count": 68,
     "metadata": {},
     "output_type": "execute_result"
    },
    {
     "data": {
      "image/png": "[encoded data removed]",
      "text/plain": [
       "<Figure size 1080x504 with 1 Axes>"
      ]
     },
     "metadata": {},
     "output_type": "display_data"
    }
   ],
   "source": [
    "like_true = list(df[df['label'] == 0]['num_like_post'])\n",
    "# like_fake = df[df['label'] == 1]['num_like_post']\n",
    "\n",
    "# print(like_true)\n",
    "\n",
    "plt.figure(figsize=(15, 7))\n",
    "sns.histplot(data=like_true, bins=50, color='b')\n",
    "# sns.histplot(data=like_fake, bins=50, color='r')\n",
    "# plt.xticks(ticks=range(0, 50000, 100))\n",
    "plt.xlabel('Số lượng like')\n",
    "plt.ylabel('Số lượng tin')\n",
    "plt.legend(labels=[\"Thật\", \"Giả\"])\n",
    "plt.title('Biểu đồ số lượng like trong tin thật và giả')"
   ]
  },
  {
   "cell_type": "code",
   "execution_count": 89,
   "metadata": {},
   "outputs": [
    {
     "data": {
      "text/plain": [
       "Text(0.5, 1.0, 'Biểu đồ giờ được đăng của tin thật và giả')"
      ]
     },
     "execution_count": 89,
     "metadata": {},
     "output_type": "execute_result"
    },
    {
     "data": {
      "image/png": "[encoded data removed]",
      "text/plain": [
       "<Figure size 1080x504 with 1 Axes>"
      ]
     },
     "metadata": {},
     "output_type": "display_data"
    }
   ],
   "source": [
    "# for graphing\n",
    "time_true = [n.hour for n in df[df['label'] == 0]['timestamp_post']]\n",
    "time_fake = [n.hour for n in df[df['label'] == 1]['timestamp_post']]\n",
    "\n",
    "plt.figure(figsize=(15, 7))\n",
    "sns.histplot(data=time_true, bins=50, color='b')\n",
    "sns.histplot(data=time_fake, bins=50, color='r')\n",
    "plt.xticks(ticks=range(0, 24))\n",
    "plt.xlabel('Giờ')\n",
    "plt.ylabel('Số lượng tin')\n",
    "plt.legend(labels=[\"Thật\", \"Giả\"])\n",
    "plt.title('Biểu đồ giờ được đăng của tin thật và giả')"
   ]
  },
  {
   "cell_type": "code",
   "execution_count": 32,
   "metadata": {},
   "outputs": [],
   "source": [
    "# get stopwords list\n",
    "f = open('data/vietnamese-stopwords.txt', 'r', encoding=\"utf8\")\n",
    "stopwords = f.read().split('\\n')"
   ]
  },
  {
   "cell_type": "markdown",
   "metadata": {},
   "source": [
    "# TF-IDF features"
   ]
  },
  {
   "cell_type": "code",
   "execution_count": null,
   "metadata": {},
   "outputs": [],
   "source": [
    "from sklearn.feature_extraction.text import TfidfVectorizer\n",
    "from underthesea import word_tokenize\n",
    "from sklearn.decomposition import TruncatedSVD\n",
    "from sklearn.preprocessing import MinMaxScaler\n",
    "import time\n",
    "import string"
   ]
  },
  {
   "cell_type": "code",
   "execution_count": null,
   "metadata": {},
   "outputs": [],
   "source": [
    "def tokenize(text):\n",
    "  #text = text.translate(str.maketrans('', '', string.punctuation)) # clean punctuation\n",
    "  text = word_tokenize(text.lower()) #tokenize, word segment\n",
    "  return text"
   ]
  },
  {
   "cell_type": "code",
   "execution_count": null,
   "metadata": {},
   "outputs": [],
   "source": [
    "start = time.time()\n",
    "\n",
    "# get tfidf vectors with n_grams = 3\n",
    "vectorizer = TfidfVectorizer(tokenizer=tokenize, ngram_range=(1, 3))\n",
    "X_tfidf = vectorizer.fit_transform(df['post_message'])\n",
    "\n",
    "end = time.time()\n",
    "print(end - start)"
   ]
  },
  {
   "cell_type": "code",
   "execution_count": null,
   "metadata": {},
   "outputs": [],
   "source": [
    "start = time.time()\n",
    "\n",
    "# reduce dimensionality of tfidf vector to 100 dimensions\n",
    "svd = TruncatedSVD(n_components=100, algorithm='arpack')\n",
    "X_tfidf_svd = svd.fit_transform(X_tfidf)\n",
    "\n",
    "end = time.time()\n",
    "print(end - start)"
   ]
  },
  {
   "cell_type": "code",
   "execution_count": null,
   "metadata": {},
   "outputs": [],
   "source": [
    "# scale data to (0, 1) range as we've performed dimension reduction\n",
    "scaler1 = MinMaxScaler()\n",
    "X1 = scaler1.fit_transform(X_tfidf_svd)"
   ]
  },
  {
   "cell_type": "markdown",
   "metadata": {},
   "source": [
    "# Custom features"
   ]
  },
  {
   "cell_type": "code",
   "execution_count": null,
   "metadata": {},
   "outputs": [],
   "source": [
    "def extract_feature(data):\n",
    "  \n",
    "  text = data[2] # get text content\n",
    "  \n",
    "  num_punct = len([k for k in word_tokenize(text) if k in string.punctuation])\n",
    "  \n",
    "  num_one, num_two, num_three_gtt, \\\n",
    "  num_numbers, num_stopwords, \\\n",
    "  num_upper, num_any_upper = ([] for i in range(7))\n",
    "  \n",
    "  tokens = word_tokenize(text)\n",
    "  num_distinct = set()\n",
    "  \n",
    "  for token in tokens:\n",
    "    \n",
    "    if len(token.split()) == 1:\n",
    "      num_one.append(token)\n",
    "    elif len(token.split()) == 2:\n",
    "      num_two.append(token)\n",
    "    else:\n",
    "      num_three_gtt.append(token)\n",
    "      \n",
    "    if token.isnumeric(): \n",
    "      num_numbers.append(token)\n",
    "\n",
    "    if token in stopwords:\n",
    "      num_stopwords.append(token)\n",
    "      \n",
    "    if token.isupper():\n",
    "      num_upper.append(token)\n",
    "      \n",
    "    if any(char.isupper() for char in token): \n",
    "      num_any_upper.append(token)\n",
    "      \n",
    "    num_distinct.add(token.lower())\n",
    "  \n",
    "  features = [len(tokens), # number of total word tokens (without punctuation)\n",
    "              len(text), # number of characters \n",
    "              num_punct, # number of punctuation\n",
    "              len(num_one), # number of 1 word tokens\n",
    "              len(num_two), # number of 2 words tokens\n",
    "              len(num_three_gtt), # number of >=3 words tokens\n",
    "              len(num_numbers), # number of token that is numeric\n",
    "              len(num_stopwords), # number of token that is a stopword\n",
    "              len(num_upper), # number of token that is in full CAPITAL\n",
    "              len(num_any_upper), # number of token that contains any CAPITAL character\n",
    "              len(num_distinct), # number of distinct tokens\n",
    "              data[4], # number of likes on post\n",
    "              data[5], # number of comments on post\n",
    "              data[6], # number of shares\n",
    "              data[3].hour,\n",
    "              data[3].day_of_week,\n",
    "              data[3].month,\n",
    "              data[3].day\n",
    "             ]\n",
    "  return features"
   ]
  },
  {
   "cell_type": "code",
   "execution_count": null,
   "metadata": {},
   "outputs": [],
   "source": [
    "start = time.time()\n",
    "\n",
    "# extract custom features, tokenize, clean stopwords, \n",
    "X_cf = np.array([extract_feature(df.iloc[i, :]) for i in range(df.shape[0])])\n",
    "\n",
    "end = time.time()\n",
    "print(end - start)"
   ]
  },
  {
   "cell_type": "code",
   "execution_count": null,
   "metadata": {},
   "outputs": [],
   "source": [
    "scaler2 = MinMaxScaler()\n",
    "X2 = scaler2.fit_transform(X_cf)"
   ]
  },
  {
   "cell_type": "markdown",
   "metadata": {},
   "source": [
    "# Combine 2 features"
   ]
  },
  {
   "cell_type": "code",
   "execution_count": null,
   "metadata": {},
   "outputs": [],
   "source": []
  },
  {
   "cell_type": "code",
   "execution_count": null,
   "metadata": {},
   "outputs": [],
   "source": [
    "# combine tf-idf and custom features\n",
    "X3 = []\n",
    "for i in range(len(X1)):\n",
    "  X3.append(np.append(X1[i], X2[i]))\n",
    "X3 = np.array(X3)\n",
    "X3.shape"
   ]
  },
  {
   "cell_type": "markdown",
   "metadata": {},
   "source": [
    "# Data preparation"
   ]
  },
  {
   "cell_type": "code",
   "execution_count": null,
   "metadata": {},
   "outputs": [],
   "source": [
    "from sklearn.model_selection import train_test_split"
   ]
  },
  {
   "cell_type": "code",
   "execution_count": null,
   "metadata": {},
   "outputs": [],
   "source": [
    "y = np.array(df['label'])"
   ]
  },
  {
   "cell_type": "code",
   "execution_count": null,
   "metadata": {},
   "outputs": [],
   "source": [
    "X_train1, X_test1, y_train, y_test = train_test_split(X1, y, test_size=0.2, random_state=42)\n",
    "X_train2, X_test2, y_train, y_test = train_test_split(X2, y, test_size=0.2, random_state=42)\n",
    "X_train3, X_test3, y_train, y_test = train_test_split(X3, y, test_size=0.2, random_state=42)\n",
    "\n",
    "print('Tập train:', len(X_train1))\n",
    "print('Tập test:', len(X_test1))"
   ]
  },
  {
   "cell_type": "markdown",
   "metadata": {},
   "source": [
    "# Models"
   ]
  },
  {
   "cell_type": "code",
   "execution_count": null,
   "metadata": {},
   "outputs": [],
   "source": [
    "from sklearn.metrics import classification_report, accuracy_score\n",
    "from sklearn.tree import DecisionTreeClassifier\n",
    "from sklearn.linear_model import LogisticRegression\n",
    "from sklearn.neighbors import KNeighborsClassifier\n",
    "from sklearn.naive_bayes import MultinomialNB\n",
    "from sklearn.naive_bayes import GaussianNB\n",
    "from sklearn.ensemble import RandomForestClassifier\n",
    "from sklearn import svm"
   ]
  },
  {
   "cell_type": "code",
   "execution_count": null,
   "metadata": {},
   "outputs": [],
   "source": [
    "def decision_tree(X_train, X_test, y_train):\n",
    "  tree = DecisionTreeClassifier(random_state=0)\n",
    "  tree.fit(X_train, y_train)\n",
    "  y_pred_tree = tree.predict(X_test)\n",
    "  return y_pred_tree\n",
    "\n",
    "def logistic_regression(X_train, X_test, y_train):\n",
    "  clf_lore = LogisticRegression(random_state=0, max_iter=10000)\n",
    "  clf_lore.fit(X_train, y_train)\n",
    "  y_pred_lore = clf_lore.predict(X_test)\n",
    "  return y_pred_lore\n",
    "\n",
    "def knn(X_train, X_test, y_train):\n",
    "  neigh = KNeighborsClassifier(n_neighbors=3)\n",
    "  neigh.fit(X_train, y_train)\n",
    "  y_pred_neigh = neigh.predict(X_test)\n",
    "  return y_pred_neigh\n",
    "\n",
    "def naive_bayes(X_train, X_test, y_train):\n",
    "  nb = GaussianNB()\n",
    "  nb.fit(X_train, y_train)\n",
    "  y_pred_nb = nb.predict(X_test)\n",
    "  return y_pred_nb\n",
    "\n",
    "def svc(X_train, X_test, y_train):\n",
    "  clf_svc = svm.LinearSVC()#kernel='linear')\n",
    "  clf_svc.fit(X_train, y_train)\n",
    "  y_pred_svc = clf_svc.predict(X_test)\n",
    "  return y_pred_svc\n",
    "\n",
    "def random_forest(X_train, X_test, y_train):\n",
    "  clf_rf = RandomForestClassifier(random_state=0)\n",
    "  clf_rf.fit(X_train, y_train)\n",
    "  y_pred_rf = clf_rf.predict(X_test)\n",
    "  return y_pred_rf"
   ]
  },
  {
   "cell_type": "code",
   "execution_count": null,
   "metadata": {},
   "outputs": [],
   "source": [
    "# tfidf\n",
    "pred_tree1 = decision_tree(X_train1, X_test1, y_train)\n",
    "pred_lore1 = logistic_regression(X_train1, X_test1, y_train)\n",
    "pred_knn1 = knn(X_train1, X_test1, y_train)\n",
    "pred_nb1 = naive_bayes(X_train1, X_test1, y_train)\n",
    "pred_svc1 = svc(X_train1, X_test1, y_train)\n",
    "pred_rf1 = random_forest(X_train1, X_test1, y_train)"
   ]
  },
  {
   "cell_type": "code",
   "execution_count": null,
   "metadata": {},
   "outputs": [],
   "source": [
    "# custom features\n",
    "pred_tree2 = decision_tree(X_train2, X_test2, y_train)\n",
    "pred_lore2 = logistic_regression(X_train2, X_test2, y_train)\n",
    "pred_knn2 = knn(X_train2, X_test2, y_train)\n",
    "pred_nb2 = naive_bayes(X_train2, X_test2, y_train)\n",
    "pred_svc2 = svc(X_train2, X_test2, y_train)\n",
    "pred_rf2 = random_forest(X_train2, X_test2, y_train)"
   ]
  },
  {
   "cell_type": "code",
   "execution_count": null,
   "metadata": {},
   "outputs": [],
   "source": [
    "# combined features\n",
    "pred_tree3 = decision_tree(X_train3, X_test3, y_train)\n",
    "pred_lore3 = logistic_regression(X_train3, X_test3, y_train)\n",
    "pred_knn3 = knn(X_train3, X_test3, y_train)\n",
    "pred_nb3 = naive_bayes(X_train3, X_test3, y_train)\n",
    "pred_svc3 = svc(X_train3, X_test3, y_train)\n",
    "pred_rf3 = random_forest(X_train3, X_test3, y_train)"
   ]
  },
  {
   "cell_type": "markdown",
   "metadata": {},
   "source": [
    "# Evaluation"
   ]
  },
  {
   "cell_type": "code",
   "execution_count": null,
   "metadata": {},
   "outputs": [],
   "source": [
    "import seaborn as sns\n",
    "import matplotlib.pyplot as plt\n",
    "from sklearn.metrics import roc_auc_score"
   ]
  },
  {
   "cell_type": "code",
   "execution_count": null,
   "metadata": {},
   "outputs": [],
   "source": [
    "def evaluate(pred, true):\n",
    "  #print('-----------------------------------------------------')\n",
    "  acc = accuracy_score(pred, true)\n",
    "  print(classification_report(pred, true), 'Accuracy:', acc)\n",
    "  auc = roc_auc_score(pred, true)\n",
    "  print('AUC:', auc)\n",
    "  print('-----------------------------------------------------')\n",
    "  print()\n",
    "  return acc, auc"
   ]
  },
  {
   "cell_type": "code",
   "execution_count": null,
   "metadata": {},
   "outputs": [],
   "source": [
    "# evaluation on tfidf features\n",
    "\n",
    "print('Logistic Regression')\n",
    "acc_lore1, auc_lore1 = evaluate(pred_lore1, y_test)\n",
    "\n",
    "print('K-nearest-neighbor')\n",
    "acc_knn1, auc_knn1 = evaluate(pred_knn1, y_test)\n",
    "\n",
    "print('Gaussian Naive Bayes')\n",
    "acc_nb1, auc_nb1 = evaluate(pred_nb1, y_test)\n",
    "\n",
    "print('Support Vector Machines')\n",
    "acc_svc1, auc_svc1 = evaluate(pred_svc1, y_test)\n",
    "\n",
    "print('Decision Tree')\n",
    "acc_tree1, auc_tree1 = evaluate(pred_tree1, y_test)\n",
    "\n",
    "print('Random Forest')\n",
    "acc_rf1, auc_rf1 = evaluate(pred_rf1, y_test)"
   ]
  },
  {
   "cell_type": "code",
   "execution_count": null,
   "metadata": {
    "scrolled": false
   },
   "outputs": [],
   "source": [
    "# evaluation on custom features\n",
    "\n",
    "print('Logistic Regression')\n",
    "acc_lore2, auc_lore2 = evaluate(pred_lore2, y_test)\n",
    "\n",
    "print('K-nearest-neighbor')\n",
    "acc_knn2, auc_knn2 = evaluate(pred_knn2, y_test)\n",
    "\n",
    "print('Gaussian Naive Bayes')\n",
    "acc_nb2, auc_nb2 = evaluate(pred_nb2, y_test)\n",
    "\n",
    "print('Support Vector Machines')\n",
    "acc_svc2, auc_svc2 = evaluate(pred_svc2, y_test)\n",
    "\n",
    "print('Decision Tree')\n",
    "acc_tree2, auc_tree2 = evaluate(pred_tree2, y_test)\n",
    "\n",
    "print('Random Forest')\n",
    "acc_rf2, auc_rf2 = evaluate(pred_rf2, y_test)"
   ]
  },
  {
   "cell_type": "code",
   "execution_count": null,
   "metadata": {},
   "outputs": [],
   "source": [
    "# evaluation on combined features\n",
    "\n",
    "print('Logistic Regression')\n",
    "acc_lore3, auc_lore3 = evaluate(pred_lore3, y_test)\n",
    "\n",
    "print('K-nearest-neighbor')\n",
    "acc_knn3, auc_knn3 = evaluate(pred_knn3, y_test)\n",
    "\n",
    "print('Gaussian Naive Bayes')\n",
    "acc_nb3, auc_nb3 = evaluate(pred_nb3, y_test)\n",
    "\n",
    "print('Support Vector Machines')\n",
    "acc_svc3, auc_svc3 = evaluate(pred_svc3, y_test)\n",
    "\n",
    "print('Decision Tree')\n",
    "acc_tree3, auc_tree3 = evaluate(pred_tree3, y_test)\n",
    "\n",
    "print('Random Forest')\n",
    "acc_rf3, auc_rf3 = evaluate(pred_rf3, y_test)"
   ]
  },
  {
   "cell_type": "code",
   "execution_count": null,
   "metadata": {},
   "outputs": [],
   "source": [
    "print('Accuracy')\n",
    "models = ['Logistic Regression', 'KNeighbors', 'Naive Bayes', 'SVM', 'Decision Tree', 'Random Forest']\n",
    "acc1 = [acc_lore1, acc_knn1, acc_nb1, acc_svc1, acc_tree1, acc_rf1]\n",
    "acc2 = [acc_lore2, acc_knn2, acc_nb2, acc_svc2, acc_tree2, acc_rf2]\n",
    "acc3 = [acc_lore3, acc_knn3, acc_nb3, acc_svc3, acc_tree3, acc_rf3]\n",
    "\n",
    "acc_df = pd.DataFrame([acc1, acc2, acc3], columns=models, index=['TF-IDF', 'Custom', 'Combined'])\n",
    "acc_df.T"
   ]
  },
  {
   "cell_type": "code",
   "execution_count": null,
   "metadata": {},
   "outputs": [],
   "source": [
    "models = ['Logistic Regression', 'KNeighbors', 'Naive Bayes', 'SVM', 'Decision Tree', 'Random Forest']\n",
    "auc1 = [auc_lore1, auc_knn1, auc_nb1, auc_svc1, auc_tree1, auc_rf1]\n",
    "auc2 = [auc_lore2, auc_knn2, auc_nb2, auc_svc2, auc_tree2, auc_rf2]\n",
    "auc3 = [auc_lore3, auc_knn3, auc_nb3, auc_svc3, auc_tree3, auc_rf3]\n",
    "\n",
    "auc_df = pd.DataFrame([auc1, auc2, auc3], columns=models, index=['TF-IDF', 'Custom', 'Combined'])\n",
    "auc_df.T"
   ]
  },
  {
   "cell_type": "code",
   "execution_count": null,
   "metadata": {},
   "outputs": [],
   "source": [
    "plt.figure(figsize=(10, 5))\n",
    "\n",
    "acc_df.T.plot(kind='bar', figsize=(10, 5))"
   ]
  },
  {
   "cell_type": "code",
   "execution_count": null,
   "metadata": {},
   "outputs": [],
   "source": []
  }
 ],
 "metadata": {
  "kernelspec": {
   "display_name": "Python 3",
   "language": "python",
   "name": "python3"
  },
  "language_info": {
   "codemirror_mode": {
    "name": "ipython",
    "version": 3
   },
   "file_extension": ".py",
   "mimetype": "text/x-python",
   "name": "python",
   "nbconvert_exporter": "python",
   "pygments_lexer": "ipython3",
   "version": "3.8.3"
  },
  "varInspector": {
   "cols": {
    "lenName": 16,
    "lenType": 16,
    "lenVar": 40
   },
   "kernels_config": {
    "python": {
     "delete_cmd_postfix": "",
     "delete_cmd_prefix": "del ",
     "library": "var_list.py",
     "varRefreshCmd": "print(var_dic_list())"
    },
    "r": {
     "delete_cmd_postfix": ") ",
     "delete_cmd_prefix": "rm(",
     "library": "var_list.r",
     "varRefreshCmd": "cat(var_dic_list()) "
    }
   },
   "types_to_exclude": [
    "module",
    "function",
    "builtin_function_or_method",
    "instance",
    "_Feature"
   ],
   "window_display": false
  }
 },
 "nbformat": 4,
 "nbformat_minor": 5
}
